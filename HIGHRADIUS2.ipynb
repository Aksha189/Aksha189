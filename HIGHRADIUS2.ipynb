{
 "cells": [
  {
   "cell_type": "code",
   "execution_count": 2,
   "metadata": {},
   "outputs": [],
   "source": [
    "import pandas as pd\n",
    "import numpy as np\n"
   ]
  },
  {
   "cell_type": "code",
   "execution_count": 3,
   "metadata": {},
   "outputs": [],
   "source": [
    "data=pd.read_csv(r\"C:\\Users\\toshiba\\Downloads\\H2HBABBA1790.csv\")"
   ]
  },
  {
   "cell_type": "code",
   "execution_count": 4,
   "metadata": {},
   "outputs": [
    {
     "data": {
      "text/html": [
       "<div>\n",
       "<style scoped>\n",
       "    .dataframe tbody tr th:only-of-type {\n",
       "        vertical-align: middle;\n",
       "    }\n",
       "\n",
       "    .dataframe tbody tr th {\n",
       "        vertical-align: top;\n",
       "    }\n",
       "\n",
       "    .dataframe thead th {\n",
       "        text-align: right;\n",
       "    }\n",
       "</style>\n",
       "<table border=\"1\" class=\"dataframe\">\n",
       "  <thead>\n",
       "    <tr style=\"text-align: right;\">\n",
       "      <th></th>\n",
       "      <th>business_code</th>\n",
       "      <th>cust_number</th>\n",
       "      <th>name_customer</th>\n",
       "      <th>clear_date</th>\n",
       "      <th>buisness_year</th>\n",
       "      <th>doc_id</th>\n",
       "      <th>posting_date</th>\n",
       "      <th>document_create_date</th>\n",
       "      <th>document_create_date.1</th>\n",
       "      <th>due_in_date</th>\n",
       "      <th>invoice_currency</th>\n",
       "      <th>document type</th>\n",
       "      <th>posting_id</th>\n",
       "      <th>area_business</th>\n",
       "      <th>total_open_amount</th>\n",
       "      <th>baseline_create_date</th>\n",
       "      <th>cust_payment_terms</th>\n",
       "      <th>invoice_id</th>\n",
       "      <th>isOpen</th>\n",
       "    </tr>\n",
       "  </thead>\n",
       "  <tbody>\n",
       "    <tr>\n",
       "      <td>0</td>\n",
       "      <td>U001</td>\n",
       "      <td>0100031704</td>\n",
       "      <td>DELHAIZE trust</td>\n",
       "      <td>2019-04-04 00:00:00</td>\n",
       "      <td>2019.0</td>\n",
       "      <td>1.928986e+09</td>\n",
       "      <td>2019-03-18</td>\n",
       "      <td>20190318</td>\n",
       "      <td>20190318</td>\n",
       "      <td>20190402.0</td>\n",
       "      <td>USD</td>\n",
       "      <td>RV</td>\n",
       "      <td>1.0</td>\n",
       "      <td>NaN</td>\n",
       "      <td>15265.52</td>\n",
       "      <td>20190318.0</td>\n",
       "      <td>NAA8</td>\n",
       "      <td>1.928986e+09</td>\n",
       "      <td>0</td>\n",
       "    </tr>\n",
       "    <tr>\n",
       "      <td>1</td>\n",
       "      <td>U001</td>\n",
       "      <td>0200608118</td>\n",
       "      <td>DIS us</td>\n",
       "      <td>2019-07-09 00:00:00</td>\n",
       "      <td>2019.0</td>\n",
       "      <td>1.929539e+09</td>\n",
       "      <td>2019-06-24</td>\n",
       "      <td>20190625</td>\n",
       "      <td>20190624</td>\n",
       "      <td>20190709.0</td>\n",
       "      <td>USD</td>\n",
       "      <td>RV</td>\n",
       "      <td>1.0</td>\n",
       "      <td>NaN</td>\n",
       "      <td>10751.16</td>\n",
       "      <td>20190624.0</td>\n",
       "      <td>NAA8</td>\n",
       "      <td>1.929539e+09</td>\n",
       "      <td>0</td>\n",
       "    </tr>\n",
       "    <tr>\n",
       "      <td>2</td>\n",
       "      <td>U001</td>\n",
       "      <td>0200762301</td>\n",
       "      <td>C&amp;S WH foundation</td>\n",
       "      <td>2019-11-12 00:00:00</td>\n",
       "      <td>2019.0</td>\n",
       "      <td>1.930051e+09</td>\n",
       "      <td>2019-10-25</td>\n",
       "      <td>20191024</td>\n",
       "      <td>20191025</td>\n",
       "      <td>20191204.0</td>\n",
       "      <td>USD</td>\n",
       "      <td>RV</td>\n",
       "      <td>1.0</td>\n",
       "      <td>NaN</td>\n",
       "      <td>1385.59</td>\n",
       "      <td>20191025.0</td>\n",
       "      <td>NAWU</td>\n",
       "      <td>1.930051e+09</td>\n",
       "      <td>0</td>\n",
       "    </tr>\n",
       "    <tr>\n",
       "      <td>3</td>\n",
       "      <td>U001</td>\n",
       "      <td>0200865666</td>\n",
       "      <td>RESTAU co</td>\n",
       "      <td>2019-10-31 00:00:00</td>\n",
       "      <td>2019.0</td>\n",
       "      <td>1.930021e+09</td>\n",
       "      <td>2019-10-16</td>\n",
       "      <td>20191016</td>\n",
       "      <td>20191016</td>\n",
       "      <td>20191031.0</td>\n",
       "      <td>USD</td>\n",
       "      <td>RV</td>\n",
       "      <td>1.0</td>\n",
       "      <td>NaN</td>\n",
       "      <td>4574.94</td>\n",
       "      <td>20191016.0</td>\n",
       "      <td>NAA8</td>\n",
       "      <td>1.930021e+09</td>\n",
       "      <td>0</td>\n",
       "    </tr>\n",
       "    <tr>\n",
       "      <td>4</td>\n",
       "      <td>U001</td>\n",
       "      <td>0200769623</td>\n",
       "      <td>WAL-MAR co</td>\n",
       "      <td>2019-06-07 00:00:00</td>\n",
       "      <td>2019.0</td>\n",
       "      <td>1.929378e+09</td>\n",
       "      <td>2019-05-27</td>\n",
       "      <td>20190525</td>\n",
       "      <td>20190527</td>\n",
       "      <td>20190611.0</td>\n",
       "      <td>USD</td>\n",
       "      <td>RV</td>\n",
       "      <td>1.0</td>\n",
       "      <td>NaN</td>\n",
       "      <td>14049.59</td>\n",
       "      <td>20190527.0</td>\n",
       "      <td>NAH4</td>\n",
       "      <td>1.929378e+09</td>\n",
       "      <td>0</td>\n",
       "    </tr>\n",
       "    <tr>\n",
       "      <td>...</td>\n",
       "      <td>...</td>\n",
       "      <td>...</td>\n",
       "      <td>...</td>\n",
       "      <td>...</td>\n",
       "      <td>...</td>\n",
       "      <td>...</td>\n",
       "      <td>...</td>\n",
       "      <td>...</td>\n",
       "      <td>...</td>\n",
       "      <td>...</td>\n",
       "      <td>...</td>\n",
       "      <td>...</td>\n",
       "      <td>...</td>\n",
       "      <td>...</td>\n",
       "      <td>...</td>\n",
       "      <td>...</td>\n",
       "      <td>...</td>\n",
       "      <td>...</td>\n",
       "      <td>...</td>\n",
       "    </tr>\n",
       "    <tr>\n",
       "      <td>49995</td>\n",
       "      <td>U001</td>\n",
       "      <td>0200769623</td>\n",
       "      <td>WAL-MAR trust</td>\n",
       "      <td>NaN</td>\n",
       "      <td>2020.0</td>\n",
       "      <td>1.930798e+09</td>\n",
       "      <td>2020-04-17</td>\n",
       "      <td>20200417</td>\n",
       "      <td>20200417</td>\n",
       "      <td>20200502.0</td>\n",
       "      <td>USD</td>\n",
       "      <td>RV</td>\n",
       "      <td>1.0</td>\n",
       "      <td>NaN</td>\n",
       "      <td>22354.28</td>\n",
       "      <td>20200417.0</td>\n",
       "      <td>NAH4</td>\n",
       "      <td>1.930798e+09</td>\n",
       "      <td>1</td>\n",
       "    </tr>\n",
       "    <tr>\n",
       "      <td>49996</td>\n",
       "      <td>U001</td>\n",
       "      <td>0200769623</td>\n",
       "      <td>WAL-MAR co</td>\n",
       "      <td>2019-08-19 00:00:00</td>\n",
       "      <td>2019.0</td>\n",
       "      <td>1.929701e+09</td>\n",
       "      <td>2019-08-07</td>\n",
       "      <td>20190805</td>\n",
       "      <td>20190807</td>\n",
       "      <td>20190822.0</td>\n",
       "      <td>USD</td>\n",
       "      <td>RV</td>\n",
       "      <td>1.0</td>\n",
       "      <td>NaN</td>\n",
       "      <td>20017.55</td>\n",
       "      <td>20190807.0</td>\n",
       "      <td>NAH4</td>\n",
       "      <td>1.929701e+09</td>\n",
       "      <td>0</td>\n",
       "    </tr>\n",
       "    <tr>\n",
       "      <td>49997</td>\n",
       "      <td>U001</td>\n",
       "      <td>0200718130</td>\n",
       "      <td>SYSCO F co</td>\n",
       "      <td>2019-12-31 00:00:00</td>\n",
       "      <td>2019.0</td>\n",
       "      <td>1.930277e+09</td>\n",
       "      <td>2019-12-12</td>\n",
       "      <td>20191213</td>\n",
       "      <td>20191212</td>\n",
       "      <td>20191227.0</td>\n",
       "      <td>USD</td>\n",
       "      <td>RV</td>\n",
       "      <td>1.0</td>\n",
       "      <td>NaN</td>\n",
       "      <td>19915.08</td>\n",
       "      <td>20191212.0</td>\n",
       "      <td>NAA8</td>\n",
       "      <td>1.930277e+09</td>\n",
       "      <td>0</td>\n",
       "    </tr>\n",
       "    <tr>\n",
       "      <td>49998</td>\n",
       "      <td>U001</td>\n",
       "      <td>0200705742</td>\n",
       "      <td>DOT systems</td>\n",
       "      <td>2019-05-31 00:00:00</td>\n",
       "      <td>2019.0</td>\n",
       "      <td>1.929228e+09</td>\n",
       "      <td>2019-04-29</td>\n",
       "      <td>20190429</td>\n",
       "      <td>20190429</td>\n",
       "      <td>20190519.0</td>\n",
       "      <td>USD</td>\n",
       "      <td>RV</td>\n",
       "      <td>1.0</td>\n",
       "      <td>NaN</td>\n",
       "      <td>1617.89</td>\n",
       "      <td>20190429.0</td>\n",
       "      <td>NAD1</td>\n",
       "      <td>1.929228e+09</td>\n",
       "      <td>0</td>\n",
       "    </tr>\n",
       "    <tr>\n",
       "      <td>49999</td>\n",
       "      <td>U001</td>\n",
       "      <td>0200759878</td>\n",
       "      <td>SA corporation</td>\n",
       "      <td>2019-05-03 00:00:00</td>\n",
       "      <td>2019.0</td>\n",
       "      <td>1.929159e+09</td>\n",
       "      <td>2019-04-18</td>\n",
       "      <td>20190417</td>\n",
       "      <td>20190418</td>\n",
       "      <td>20190503.0</td>\n",
       "      <td>USD</td>\n",
       "      <td>RV</td>\n",
       "      <td>1.0</td>\n",
       "      <td>NaN</td>\n",
       "      <td>21604.23</td>\n",
       "      <td>20190418.0</td>\n",
       "      <td>NAH4</td>\n",
       "      <td>1.929159e+09</td>\n",
       "      <td>0</td>\n",
       "    </tr>\n",
       "  </tbody>\n",
       "</table>\n",
       "<p>50000 rows × 19 columns</p>\n",
       "</div>"
      ],
      "text/plain": [
       "      business_code cust_number      name_customer           clear_date  \\\n",
       "0              U001  0100031704     DELHAIZE trust  2019-04-04 00:00:00   \n",
       "1              U001  0200608118             DIS us  2019-07-09 00:00:00   \n",
       "2              U001  0200762301  C&S WH foundation  2019-11-12 00:00:00   \n",
       "3              U001  0200865666          RESTAU co  2019-10-31 00:00:00   \n",
       "4              U001  0200769623         WAL-MAR co  2019-06-07 00:00:00   \n",
       "...             ...         ...                ...                  ...   \n",
       "49995          U001  0200769623      WAL-MAR trust                  NaN   \n",
       "49996          U001  0200769623         WAL-MAR co  2019-08-19 00:00:00   \n",
       "49997          U001  0200718130         SYSCO F co  2019-12-31 00:00:00   \n",
       "49998          U001  0200705742        DOT systems  2019-05-31 00:00:00   \n",
       "49999          U001  0200759878     SA corporation  2019-05-03 00:00:00   \n",
       "\n",
       "       buisness_year        doc_id posting_date  document_create_date  \\\n",
       "0             2019.0  1.928986e+09   2019-03-18              20190318   \n",
       "1             2019.0  1.929539e+09   2019-06-24              20190625   \n",
       "2             2019.0  1.930051e+09   2019-10-25              20191024   \n",
       "3             2019.0  1.930021e+09   2019-10-16              20191016   \n",
       "4             2019.0  1.929378e+09   2019-05-27              20190525   \n",
       "...              ...           ...          ...                   ...   \n",
       "49995         2020.0  1.930798e+09   2020-04-17              20200417   \n",
       "49996         2019.0  1.929701e+09   2019-08-07              20190805   \n",
       "49997         2019.0  1.930277e+09   2019-12-12              20191213   \n",
       "49998         2019.0  1.929228e+09   2019-04-29              20190429   \n",
       "49999         2019.0  1.929159e+09   2019-04-18              20190417   \n",
       "\n",
       "       document_create_date.1  due_in_date invoice_currency document type  \\\n",
       "0                    20190318   20190402.0              USD            RV   \n",
       "1                    20190624   20190709.0              USD            RV   \n",
       "2                    20191025   20191204.0              USD            RV   \n",
       "3                    20191016   20191031.0              USD            RV   \n",
       "4                    20190527   20190611.0              USD            RV   \n",
       "...                       ...          ...              ...           ...   \n",
       "49995                20200417   20200502.0              USD            RV   \n",
       "49996                20190807   20190822.0              USD            RV   \n",
       "49997                20191212   20191227.0              USD            RV   \n",
       "49998                20190429   20190519.0              USD            RV   \n",
       "49999                20190418   20190503.0              USD            RV   \n",
       "\n",
       "       posting_id  area_business  total_open_amount  baseline_create_date  \\\n",
       "0             1.0            NaN           15265.52            20190318.0   \n",
       "1             1.0            NaN           10751.16            20190624.0   \n",
       "2             1.0            NaN            1385.59            20191025.0   \n",
       "3             1.0            NaN            4574.94            20191016.0   \n",
       "4             1.0            NaN           14049.59            20190527.0   \n",
       "...           ...            ...                ...                   ...   \n",
       "49995         1.0            NaN           22354.28            20200417.0   \n",
       "49996         1.0            NaN           20017.55            20190807.0   \n",
       "49997         1.0            NaN           19915.08            20191212.0   \n",
       "49998         1.0            NaN            1617.89            20190429.0   \n",
       "49999         1.0            NaN           21604.23            20190418.0   \n",
       "\n",
       "      cust_payment_terms    invoice_id  isOpen  \n",
       "0                   NAA8  1.928986e+09       0  \n",
       "1                   NAA8  1.929539e+09       0  \n",
       "2                   NAWU  1.930051e+09       0  \n",
       "3                   NAA8  1.930021e+09       0  \n",
       "4                   NAH4  1.929378e+09       0  \n",
       "...                  ...           ...     ...  \n",
       "49995               NAH4  1.930798e+09       1  \n",
       "49996               NAH4  1.929701e+09       0  \n",
       "49997               NAA8  1.930277e+09       0  \n",
       "49998               NAD1  1.929228e+09       0  \n",
       "49999               NAH4  1.929159e+09       0  \n",
       "\n",
       "[50000 rows x 19 columns]"
      ]
     },
     "execution_count": 4,
     "metadata": {},
     "output_type": "execute_result"
    }
   ],
   "source": [
    "data"
   ]
  },
  {
   "cell_type": "code",
   "execution_count": 4,
   "metadata": {},
   "outputs": [],
   "source": [
    "x= data.iloc[:,:-1].values  #extracting the independent variable"
   ]
  },
  {
   "cell_type": "code",
   "execution_count": 5,
   "metadata": {},
   "outputs": [
    {
     "data": {
      "text/plain": [
       "array([['U001', '0100031704', 'DELHAIZE trust', ..., 20190318.0, 'NAA8',\n",
       "        1928985500.0],\n",
       "       ['U001', '0200608118', 'DIS us', ..., 20190624.0, 'NAA8',\n",
       "        1929538933.0],\n",
       "       ['U001', '0200762301', 'C&S WH foundation', ..., 20191025.0,\n",
       "        'NAWU', 1930050954.0],\n",
       "       ...,\n",
       "       ['U001', '0200718130', 'SYSCO F co', ..., 20191212.0, 'NAA8',\n",
       "        1930276617.0],\n",
       "       ['U001', '0200705742', 'DOT systems', ..., 20190429.0, 'NAD1',\n",
       "        1929227969.0],\n",
       "       ['U001', '0200759878', 'SA corporation', ..., 20190418.0, 'NAH4',\n",
       "        1929159486.0]], dtype=object)"
      ]
     },
     "execution_count": 5,
     "metadata": {},
     "output_type": "execute_result"
    }
   ],
   "source": [
    "x"
   ]
  },
  {
   "cell_type": "code",
   "execution_count": 5,
   "metadata": {},
   "outputs": [
    {
     "data": {
      "text/plain": [
       "(50000, 19)"
      ]
     },
     "execution_count": 5,
     "metadata": {},
     "output_type": "execute_result"
    }
   ],
   "source": [
    "data.shape"
   ]
  },
  {
   "cell_type": "code",
   "execution_count": 15,
   "metadata": {},
   "outputs": [
    {
     "data": {
      "text/plain": [
       "<bound method DataFrame.nunique of       business_code cust_number      name_customer           clear_date  \\\n",
       "0              U001  0100031704     DELHAIZE trust  2019-04-04 00:00:00   \n",
       "1              U001  0200608118             DIS us  2019-07-09 00:00:00   \n",
       "2              U001  0200762301  C&S WH foundation  2019-11-12 00:00:00   \n",
       "3              U001  0200865666          RESTAU co  2019-10-31 00:00:00   \n",
       "4              U001  0200769623         WAL-MAR co  2019-06-07 00:00:00   \n",
       "...             ...         ...                ...                  ...   \n",
       "49995          U001  0200769623      WAL-MAR trust                  NaN   \n",
       "49996          U001  0200769623         WAL-MAR co  2019-08-19 00:00:00   \n",
       "49997          U001  0200718130         SYSCO F co  2019-12-31 00:00:00   \n",
       "49998          U001  0200705742        DOT systems  2019-05-31 00:00:00   \n",
       "49999          U001  0200759878     SA corporation  2019-05-03 00:00:00   \n",
       "\n",
       "       buisness_year        doc_id posting_date  document_create_date  \\\n",
       "0             2019.0  1.928986e+09   2019-03-18              20190318   \n",
       "1             2019.0  1.929539e+09   2019-06-24              20190625   \n",
       "2             2019.0  1.930051e+09   2019-10-25              20191024   \n",
       "3             2019.0  1.930021e+09   2019-10-16              20191016   \n",
       "4             2019.0  1.929378e+09   2019-05-27              20190525   \n",
       "...              ...           ...          ...                   ...   \n",
       "49995         2020.0  1.930798e+09   2020-04-17              20200417   \n",
       "49996         2019.0  1.929701e+09   2019-08-07              20190805   \n",
       "49997         2019.0  1.930277e+09   2019-12-12              20191213   \n",
       "49998         2019.0  1.929228e+09   2019-04-29              20190429   \n",
       "49999         2019.0  1.929159e+09   2019-04-18              20190417   \n",
       "\n",
       "       document_create_date.1  due_in_date invoice_currency document type  \\\n",
       "0                    20190318   20190402.0              USD            RV   \n",
       "1                    20190624   20190709.0              USD            RV   \n",
       "2                    20191025   20191204.0              USD            RV   \n",
       "3                    20191016   20191031.0              USD            RV   \n",
       "4                    20190527   20190611.0              USD            RV   \n",
       "...                       ...          ...              ...           ...   \n",
       "49995                20200417   20200502.0              USD            RV   \n",
       "49996                20190807   20190822.0              USD            RV   \n",
       "49997                20191212   20191227.0              USD            RV   \n",
       "49998                20190429   20190519.0              USD            RV   \n",
       "49999                20190418   20190503.0              USD            RV   \n",
       "\n",
       "       posting_id  area_business  total_open_amount  baseline_create_date  \\\n",
       "0             1.0            NaN           15265.52            20190318.0   \n",
       "1             1.0            NaN           10751.16            20190624.0   \n",
       "2             1.0            NaN            1385.59            20191025.0   \n",
       "3             1.0            NaN            4574.94            20191016.0   \n",
       "4             1.0            NaN           14049.59            20190527.0   \n",
       "...           ...            ...                ...                   ...   \n",
       "49995         1.0            NaN           22354.28            20200417.0   \n",
       "49996         1.0            NaN           20017.55            20190807.0   \n",
       "49997         1.0            NaN           19915.08            20191212.0   \n",
       "49998         1.0            NaN            1617.89            20190429.0   \n",
       "49999         1.0            NaN           21604.23            20190418.0   \n",
       "\n",
       "      cust_payment_terms    invoice_id  isOpen  \n",
       "0                   NAA8  1.928986e+09       0  \n",
       "1                   NAA8  1.929539e+09       0  \n",
       "2                   NAWU  1.930051e+09       0  \n",
       "3                   NAA8  1.930021e+09       0  \n",
       "4                   NAH4  1.929378e+09       0  \n",
       "...                  ...           ...     ...  \n",
       "49995               NAH4  1.930798e+09       1  \n",
       "49996               NAH4  1.929701e+09       0  \n",
       "49997               NAA8  1.930277e+09       0  \n",
       "49998               NAD1  1.929228e+09       0  \n",
       "49999               NAH4  1.929159e+09       0  \n",
       "\n",
       "[50000 rows x 19 columns]>"
      ]
     },
     "execution_count": 15,
     "metadata": {},
     "output_type": "execute_result"
    }
   ],
   "source": [
    "data.nunique"
   ]
  },
  {
   "cell_type": "markdown",
   "metadata": {},
   "source": [
    "# data preprocessing"
   ]
  },
  {
   "cell_type": "code",
   "execution_count": 9,
   "metadata": {},
   "outputs": [
    {
     "data": {
      "text/plain": [
       "business_code                 0\n",
       "cust_number                   0\n",
       "name_customer                 0\n",
       "clear_date                10000\n",
       "buisness_year                 0\n",
       "doc_id                        0\n",
       "posting_date                  0\n",
       "document_create_date          0\n",
       "document_create_date.1        0\n",
       "due_in_date                   0\n",
       "invoice_currency              0\n",
       "document type                 0\n",
       "posting_id                    0\n",
       "total_open_amount             0\n",
       "baseline_create_date          0\n",
       "cust_payment_terms            0\n",
       "invoice_id                    4\n",
       "isOpen                        0\n",
       "dtype: int64"
      ]
     },
     "execution_count": 9,
     "metadata": {},
     "output_type": "execute_result"
    }
   ],
   "source": [
    "data.isnull().sum()"
   ]
  },
  {
   "cell_type": "code",
   "execution_count": 6,
   "metadata": {},
   "outputs": [
    {
     "data": {
      "text/plain": [
       "(50000, 19)"
      ]
     },
     "execution_count": 6,
     "metadata": {},
     "output_type": "execute_result"
    }
   ],
   "source": [
    "data.shape"
   ]
  },
  {
   "cell_type": "code",
   "execution_count": 7,
   "metadata": {},
   "outputs": [],
   "source": [
    "\n",
    "data.drop(\"area_business\",axis = \"columns\",inplace=True)"
   ]
  },
  {
   "cell_type": "code",
   "execution_count": 10,
   "metadata": {},
   "outputs": [],
   "source": [
    "mean_value=data['invoice_id'].mean()"
   ]
  },
  {
   "cell_type": "code",
   "execution_count": 11,
   "metadata": {},
   "outputs": [],
   "source": [
    "data['invoice_id'].fillna(value=mean_value, inplace=True)"
   ]
  },
  {
   "cell_type": "code",
   "execution_count": 12,
   "metadata": {},
   "outputs": [],
   "source": [
    "data.drop(\"name_customer\",axis = \"columns\",inplace=True)"
   ]
  },
  {
   "cell_type": "code",
   "execution_count": 13,
   "metadata": {},
   "outputs": [],
   "source": [
    "data.drop_duplicates(inplace = True)"
   ]
  },
  {
   "cell_type": "code",
   "execution_count": 14,
   "metadata": {},
   "outputs": [
    {
     "data": {
      "text/plain": [
       "business_code              object\n",
       "cust_number                object\n",
       "clear_date                 object\n",
       "buisness_year             float64\n",
       "doc_id                    float64\n",
       "posting_date               object\n",
       "document_create_date        int64\n",
       "document_create_date.1      int64\n",
       "due_in_date               float64\n",
       "invoice_currency           object\n",
       "document type              object\n",
       "posting_id                float64\n",
       "total_open_amount         float64\n",
       "baseline_create_date      float64\n",
       "cust_payment_terms         object\n",
       "invoice_id                float64\n",
       "isOpen                      int64\n",
       "dtype: object"
      ]
     },
     "execution_count": 14,
     "metadata": {},
     "output_type": "execute_result"
    }
   ],
   "source": [
    "data.dtypes"
   ]
  },
  {
   "cell_type": "code",
   "execution_count": 15,
   "metadata": {},
   "outputs": [],
   "source": [
    "data['posting_date'] = pd.to_datetime(data['posting_date'])"
   ]
  },
  {
   "cell_type": "code",
   "execution_count": 16,
   "metadata": {},
   "outputs": [],
   "source": [
    "data['clear_date'] = pd.to_datetime(data['clear_date'])\n",
    "\n",
    "data['baseline_create_date'] = pd.to_datetime(data['baseline_create_date'],format='%Y%m%d')\n"
   ]
  },
  {
   "cell_type": "code",
   "execution_count": 17,
   "metadata": {},
   "outputs": [],
   "source": [
    "data['due_in_date'] = pd.to_datetime(data['due_in_date'], format='%Y%m%d')"
   ]
  },
  {
   "cell_type": "code",
   "execution_count": 19,
   "metadata": {
    "scrolled": true
   },
   "outputs": [
    {
     "data": {
      "text/html": [
       "<div>\n",
       "<style scoped>\n",
       "    .dataframe tbody tr th:only-of-type {\n",
       "        vertical-align: middle;\n",
       "    }\n",
       "\n",
       "    .dataframe tbody tr th {\n",
       "        vertical-align: top;\n",
       "    }\n",
       "\n",
       "    .dataframe thead th {\n",
       "        text-align: right;\n",
       "    }\n",
       "</style>\n",
       "<table border=\"1\" class=\"dataframe\">\n",
       "  <thead>\n",
       "    <tr style=\"text-align: right;\">\n",
       "      <th></th>\n",
       "      <th>business_code</th>\n",
       "      <th>cust_number</th>\n",
       "      <th>clear_date</th>\n",
       "      <th>buisness_year</th>\n",
       "      <th>doc_id</th>\n",
       "      <th>posting_date</th>\n",
       "      <th>document_create_date</th>\n",
       "      <th>document_create_date.1</th>\n",
       "      <th>due_in_date</th>\n",
       "      <th>invoice_currency</th>\n",
       "      <th>document type</th>\n",
       "      <th>posting_id</th>\n",
       "      <th>total_open_amount</th>\n",
       "      <th>baseline_create_date</th>\n",
       "      <th>cust_payment_terms</th>\n",
       "      <th>invoice_id</th>\n",
       "      <th>isOpen</th>\n",
       "    </tr>\n",
       "  </thead>\n",
       "  <tbody>\n",
       "    <tr>\n",
       "      <td>0</td>\n",
       "      <td>U001</td>\n",
       "      <td>0100031704</td>\n",
       "      <td>2019-04-04</td>\n",
       "      <td>2019.0</td>\n",
       "      <td>1.928986e+09</td>\n",
       "      <td>2019-03-18</td>\n",
       "      <td>20190318</td>\n",
       "      <td>20190318</td>\n",
       "      <td>2019-04-02</td>\n",
       "      <td>USD</td>\n",
       "      <td>RV</td>\n",
       "      <td>1.0</td>\n",
       "      <td>15265.52</td>\n",
       "      <td>2019-03-18</td>\n",
       "      <td>NAA8</td>\n",
       "      <td>1.928986e+09</td>\n",
       "      <td>0</td>\n",
       "    </tr>\n",
       "    <tr>\n",
       "      <td>1</td>\n",
       "      <td>U001</td>\n",
       "      <td>0200608118</td>\n",
       "      <td>2019-07-09</td>\n",
       "      <td>2019.0</td>\n",
       "      <td>1.929539e+09</td>\n",
       "      <td>2019-06-24</td>\n",
       "      <td>20190625</td>\n",
       "      <td>20190624</td>\n",
       "      <td>2019-07-09</td>\n",
       "      <td>USD</td>\n",
       "      <td>RV</td>\n",
       "      <td>1.0</td>\n",
       "      <td>10751.16</td>\n",
       "      <td>2019-06-24</td>\n",
       "      <td>NAA8</td>\n",
       "      <td>1.929539e+09</td>\n",
       "      <td>0</td>\n",
       "    </tr>\n",
       "    <tr>\n",
       "      <td>2</td>\n",
       "      <td>U001</td>\n",
       "      <td>0200762301</td>\n",
       "      <td>2019-11-12</td>\n",
       "      <td>2019.0</td>\n",
       "      <td>1.930051e+09</td>\n",
       "      <td>2019-10-25</td>\n",
       "      <td>20191024</td>\n",
       "      <td>20191025</td>\n",
       "      <td>2019-12-04</td>\n",
       "      <td>USD</td>\n",
       "      <td>RV</td>\n",
       "      <td>1.0</td>\n",
       "      <td>1385.59</td>\n",
       "      <td>2019-10-25</td>\n",
       "      <td>NAWU</td>\n",
       "      <td>1.930051e+09</td>\n",
       "      <td>0</td>\n",
       "    </tr>\n",
       "    <tr>\n",
       "      <td>3</td>\n",
       "      <td>U001</td>\n",
       "      <td>0200865666</td>\n",
       "      <td>2019-10-31</td>\n",
       "      <td>2019.0</td>\n",
       "      <td>1.930021e+09</td>\n",
       "      <td>2019-10-16</td>\n",
       "      <td>20191016</td>\n",
       "      <td>20191016</td>\n",
       "      <td>2019-10-31</td>\n",
       "      <td>USD</td>\n",
       "      <td>RV</td>\n",
       "      <td>1.0</td>\n",
       "      <td>4574.94</td>\n",
       "      <td>2019-10-16</td>\n",
       "      <td>NAA8</td>\n",
       "      <td>1.930021e+09</td>\n",
       "      <td>0</td>\n",
       "    </tr>\n",
       "    <tr>\n",
       "      <td>4</td>\n",
       "      <td>U001</td>\n",
       "      <td>0200769623</td>\n",
       "      <td>2019-06-07</td>\n",
       "      <td>2019.0</td>\n",
       "      <td>1.929378e+09</td>\n",
       "      <td>2019-05-27</td>\n",
       "      <td>20190525</td>\n",
       "      <td>20190527</td>\n",
       "      <td>2019-06-11</td>\n",
       "      <td>USD</td>\n",
       "      <td>RV</td>\n",
       "      <td>1.0</td>\n",
       "      <td>14049.59</td>\n",
       "      <td>2019-05-27</td>\n",
       "      <td>NAH4</td>\n",
       "      <td>1.929378e+09</td>\n",
       "      <td>0</td>\n",
       "    </tr>\n",
       "    <tr>\n",
       "      <td>5</td>\n",
       "      <td>U001</td>\n",
       "      <td>0200353024</td>\n",
       "      <td>NaT</td>\n",
       "      <td>2020.0</td>\n",
       "      <td>1.930878e+09</td>\n",
       "      <td>2020-05-08</td>\n",
       "      <td>20200508</td>\n",
       "      <td>20200508</td>\n",
       "      <td>2020-05-24</td>\n",
       "      <td>USD</td>\n",
       "      <td>RV</td>\n",
       "      <td>1.0</td>\n",
       "      <td>3390.54</td>\n",
       "      <td>2020-05-01</td>\n",
       "      <td>NAM4</td>\n",
       "      <td>1.930878e+09</td>\n",
       "      <td>1</td>\n",
       "    </tr>\n",
       "    <tr>\n",
       "      <td>6</td>\n",
       "      <td>U001</td>\n",
       "      <td>0200020431</td>\n",
       "      <td>NaT</td>\n",
       "      <td>2020.0</td>\n",
       "      <td>1.930605e+09</td>\n",
       "      <td>2020-03-05</td>\n",
       "      <td>20200305</td>\n",
       "      <td>20200305</td>\n",
       "      <td>2020-03-24</td>\n",
       "      <td>USD</td>\n",
       "      <td>RV</td>\n",
       "      <td>1.0</td>\n",
       "      <td>3478.16</td>\n",
       "      <td>2020-03-01</td>\n",
       "      <td>NAM4</td>\n",
       "      <td>1.930605e+09</td>\n",
       "      <td>1</td>\n",
       "    </tr>\n",
       "    <tr>\n",
       "      <td>7</td>\n",
       "      <td>U001</td>\n",
       "      <td>0200790107</td>\n",
       "      <td>NaT</td>\n",
       "      <td>2020.0</td>\n",
       "      <td>1.930655e+09</td>\n",
       "      <td>2020-03-15</td>\n",
       "      <td>20200315</td>\n",
       "      <td>20200315</td>\n",
       "      <td>2020-03-30</td>\n",
       "      <td>USD</td>\n",
       "      <td>RV</td>\n",
       "      <td>1.0</td>\n",
       "      <td>128347.27</td>\n",
       "      <td>2020-03-15</td>\n",
       "      <td>NAC6</td>\n",
       "      <td>1.930655e+09</td>\n",
       "      <td>1</td>\n",
       "    </tr>\n",
       "    <tr>\n",
       "      <td>8</td>\n",
       "      <td>U001</td>\n",
       "      <td>0200772595</td>\n",
       "      <td>2019-12-23</td>\n",
       "      <td>2019.0</td>\n",
       "      <td>1.930251e+09</td>\n",
       "      <td>2019-12-08</td>\n",
       "      <td>20191208</td>\n",
       "      <td>20191208</td>\n",
       "      <td>2019-12-23</td>\n",
       "      <td>USD</td>\n",
       "      <td>RV</td>\n",
       "      <td>1.0</td>\n",
       "      <td>24291.02</td>\n",
       "      <td>2019-12-08</td>\n",
       "      <td>NAA8</td>\n",
       "      <td>1.930251e+09</td>\n",
       "      <td>0</td>\n",
       "    </tr>\n",
       "    <tr>\n",
       "      <td>9</td>\n",
       "      <td>U001</td>\n",
       "      <td>0200416837</td>\n",
       "      <td>NaT</td>\n",
       "      <td>2020.0</td>\n",
       "      <td>1.930700e+09</td>\n",
       "      <td>2020-03-25</td>\n",
       "      <td>20200325</td>\n",
       "      <td>20200325</td>\n",
       "      <td>2020-04-08</td>\n",
       "      <td>USD</td>\n",
       "      <td>RV</td>\n",
       "      <td>1.0</td>\n",
       "      <td>213.72</td>\n",
       "      <td>2020-03-16</td>\n",
       "      <td>NAM4</td>\n",
       "      <td>1.930700e+09</td>\n",
       "      <td>1</td>\n",
       "    </tr>\n",
       "  </tbody>\n",
       "</table>\n",
       "</div>"
      ],
      "text/plain": [
       "  business_code cust_number clear_date  buisness_year        doc_id  \\\n",
       "0          U001  0100031704 2019-04-04         2019.0  1.928986e+09   \n",
       "1          U001  0200608118 2019-07-09         2019.0  1.929539e+09   \n",
       "2          U001  0200762301 2019-11-12         2019.0  1.930051e+09   \n",
       "3          U001  0200865666 2019-10-31         2019.0  1.930021e+09   \n",
       "4          U001  0200769623 2019-06-07         2019.0  1.929378e+09   \n",
       "5          U001  0200353024        NaT         2020.0  1.930878e+09   \n",
       "6          U001  0200020431        NaT         2020.0  1.930605e+09   \n",
       "7          U001  0200790107        NaT         2020.0  1.930655e+09   \n",
       "8          U001  0200772595 2019-12-23         2019.0  1.930251e+09   \n",
       "9          U001  0200416837        NaT         2020.0  1.930700e+09   \n",
       "\n",
       "  posting_date  document_create_date  document_create_date.1 due_in_date  \\\n",
       "0   2019-03-18              20190318                20190318  2019-04-02   \n",
       "1   2019-06-24              20190625                20190624  2019-07-09   \n",
       "2   2019-10-25              20191024                20191025  2019-12-04   \n",
       "3   2019-10-16              20191016                20191016  2019-10-31   \n",
       "4   2019-05-27              20190525                20190527  2019-06-11   \n",
       "5   2020-05-08              20200508                20200508  2020-05-24   \n",
       "6   2020-03-05              20200305                20200305  2020-03-24   \n",
       "7   2020-03-15              20200315                20200315  2020-03-30   \n",
       "8   2019-12-08              20191208                20191208  2019-12-23   \n",
       "9   2020-03-25              20200325                20200325  2020-04-08   \n",
       "\n",
       "  invoice_currency document type  posting_id  total_open_amount  \\\n",
       "0              USD            RV         1.0           15265.52   \n",
       "1              USD            RV         1.0           10751.16   \n",
       "2              USD            RV         1.0            1385.59   \n",
       "3              USD            RV         1.0            4574.94   \n",
       "4              USD            RV         1.0           14049.59   \n",
       "5              USD            RV         1.0            3390.54   \n",
       "6              USD            RV         1.0            3478.16   \n",
       "7              USD            RV         1.0          128347.27   \n",
       "8              USD            RV         1.0           24291.02   \n",
       "9              USD            RV         1.0             213.72   \n",
       "\n",
       "  baseline_create_date cust_payment_terms    invoice_id  isOpen  \n",
       "0           2019-03-18               NAA8  1.928986e+09       0  \n",
       "1           2019-06-24               NAA8  1.929539e+09       0  \n",
       "2           2019-10-25               NAWU  1.930051e+09       0  \n",
       "3           2019-10-16               NAA8  1.930021e+09       0  \n",
       "4           2019-05-27               NAH4  1.929378e+09       0  \n",
       "5           2020-05-01               NAM4  1.930878e+09       1  \n",
       "6           2020-03-01               NAM4  1.930605e+09       1  \n",
       "7           2020-03-15               NAC6  1.930655e+09       1  \n",
       "8           2019-12-08               NAA8  1.930251e+09       0  \n",
       "9           2020-03-16               NAM4  1.930700e+09       1  "
      ]
     },
     "execution_count": 19,
     "metadata": {},
     "output_type": "execute_result"
    }
   ],
   "source": [
    "data.head(10)"
   ]
  },
  {
   "cell_type": "markdown",
   "metadata": {},
   "source": [
    "# EDA"
   ]
  },
  {
   "cell_type": "code",
   "execution_count": 20,
   "metadata": {},
   "outputs": [],
   "source": [
    "data['delay'] = data.clear_date - data.due_in_date"
   ]
  },
  {
   "cell_type": "code",
   "execution_count": 21,
   "metadata": {},
   "outputs": [
    {
     "data": {
      "text/plain": [
       "NAA8    19407\n",
       "NAH4    13377\n",
       "CA10     3748\n",
       "NAC6     1737\n",
       "NAM4     1344\n",
       "        ...  \n",
       "NANC        1\n",
       "B112        1\n",
       "NAWM        1\n",
       "NATX        1\n",
       "NATW        1\n",
       "Name: cust_payment_terms, Length: 71, dtype: int64"
      ]
     },
     "execution_count": 21,
     "metadata": {},
     "output_type": "execute_result"
    }
   ],
   "source": [
    "data['cust_payment_terms'].value_counts()"
   ]
  },
  {
   "cell_type": "code",
   "execution_count": 22,
   "metadata": {},
   "outputs": [],
   "source": [
    "data[\"cust_payment_terms\"] = data[\"cust_payment_terms\"].astype('category')#covnert into category datatype"
   ]
  },
  {
   "cell_type": "code",
   "execution_count": 23,
   "metadata": {},
   "outputs": [],
   "source": [
    "data[\"cust_payment_terms\"] = data[\"cust_payment_terms\"].cat.codes#converted into categorical"
   ]
  },
  {
   "cell_type": "code",
   "execution_count": 24,
   "metadata": {},
   "outputs": [
    {
     "data": {
      "text/plain": [
       "count    48842.000000\n",
       "mean        29.422075\n",
       "std         12.070193\n",
       "min          0.000000\n",
       "25%         23.000000\n",
       "50%         23.000000\n",
       "75%         38.000000\n",
       "max         70.000000\n",
       "Name: cust_payment_terms, dtype: float64"
      ]
     },
     "execution_count": 24,
     "metadata": {},
     "output_type": "execute_result"
    }
   ],
   "source": [
    "data[\"cust_payment_terms\"].describe()"
   ]
  },
  {
   "cell_type": "code",
   "execution_count": 25,
   "metadata": {},
   "outputs": [],
   "source": [
    "series = pd.value_counts(data.cust_payment_terms)\n",
    "mask = (series/series.sum() * 100).lt(5)\n",
    "# To replace data['column'] use np.where I.e \n",
    "data['cust_payment_terms'] = np.where(data['cust_payment_terms'].isin(series[mask].index),0,data['cust_payment_terms'])"
   ]
  },
  {
   "cell_type": "code",
   "execution_count": 26,
   "metadata": {},
   "outputs": [
    {
     "data": {
      "text/plain": [
       "23    19407\n",
       "38    13377\n",
       "0     12310\n",
       "7      3748\n",
       "Name: cust_payment_terms, dtype: int64"
      ]
     },
     "execution_count": 26,
     "metadata": {},
     "output_type": "execute_result"
    }
   ],
   "source": [
    "data[\"cust_payment_terms\"].value_counts()"
   ]
  },
  {
   "cell_type": "code",
   "execution_count": 28,
   "metadata": {},
   "outputs": [
    {
     "data": {
      "image/png": "[encoded data removed]",
      "text/plain": [
       "<Figure size 432x288 with 1 Axes>"
      ]
     },
     "metadata": {},
     "output_type": "display_data"
    }
   ],
   "source": [
    "%matplotlib inline\n",
    "import seaborn as sns\n",
    "import matplotlib.pyplot as plt\n",
    "carrier_count = data['cust_payment_terms'].value_counts()\n",
    "sns.set(style=\"darkgrid\")\n",
    "sns.barplot(carrier_count.index, carrier_count.values, alpha=0.9)\n",
    "plt.title('Frequency Distribution of Carriers')\n",
    "plt.ylabel('Number of Occurrences', fontsize=12)\n",
    "\n",
    "plt.xlabel('Carrier', fontsize=12)\n",
    "plt.show()"
   ]
  },
  {
   "cell_type": "code",
   "execution_count": 29,
   "metadata": {},
   "outputs": [
    {
     "data": {
      "text/plain": [
       "23    19407\n",
       "38    13377\n",
       "0     12310\n",
       "7      3748\n",
       "Name: cust_payment_terms, dtype: int64"
      ]
     },
     "execution_count": 29,
     "metadata": {},
     "output_type": "execute_result"
    }
   ],
   "source": [
    "data[\"cust_payment_terms\"].value_counts()"
   ]
  },
  {
   "cell_type": "code",
   "execution_count": 30,
   "metadata": {},
   "outputs": [],
   "source": [
    "#finding out the outliers"
   ]
  },
  {
   "cell_type": "code",
   "execution_count": 31,
   "metadata": {},
   "outputs": [],
   "source": [
    "# IQR\n",
    "Q1 = np.percentile(data['total_open_amount'], 25, \n",
    "                   interpolation = 'midpoint') \n",
    "  \n",
    "Q3 = np.percentile(data['total_open_amount'], 75,\n",
    "                   interpolation = 'midpoint') \n",
    "IQR = Q3 - Q1"
   ]
  },
  {
   "cell_type": "code",
   "execution_count": 32,
   "metadata": {},
   "outputs": [
    {
     "name": "stdout",
     "output_type": "stream",
     "text": [
      "Upper bound: 0        False\n",
      "1        False\n",
      "2        False\n",
      "3        False\n",
      "4        False\n",
      "         ...  \n",
      "49995    False\n",
      "49996    False\n",
      "49997    False\n",
      "49998    False\n",
      "49999    False\n",
      "Name: total_open_amount, Length: 48842, dtype: bool\n",
      "(array([    7,    37,    44, ..., 48819, 48820, 48827], dtype=int64),)\n",
      "Lower bound: 0        False\n",
      "1        False\n",
      "2        False\n",
      "3        False\n",
      "4        False\n",
      "         ...  \n",
      "49995    False\n",
      "49996    False\n",
      "49997    False\n",
      "49998    False\n",
      "49999    False\n",
      "Name: total_open_amount, Length: 48842, dtype: bool\n",
      "(array([], dtype=int64),)\n"
     ]
    }
   ],
   "source": [
    "upper = data['total_open_amount'] >= (Q3+1.5*IQR)\n",
    "  \n",
    "print(\"Upper bound:\",upper)\n",
    "print(np.where(upper))\n",
    "  \n",
    "# Below Lower bound\n",
    "lower = data['total_open_amount'] <= (Q1-1.5*IQR)\n",
    "print(\"Lower bound:\", lower)\n",
    "print(np.where(lower))"
   ]
  },
  {
   "cell_type": "code",
   "execution_count": 33,
   "metadata": {},
   "outputs": [],
   "source": [
    "# IQR\n",
    "Q1 = np.percentile(data['invoice_id'], 25, \n",
    "                   interpolation = 'midpoint') \n",
    "  \n",
    "Q3 = np.percentile(data['invoice_id'], 75,\n",
    "                   interpolation = 'midpoint') \n",
    "IQR = Q3 - Q1"
   ]
  },
  {
   "cell_type": "code",
   "execution_count": 34,
   "metadata": {},
   "outputs": [
    {
     "name": "stdout",
     "output_type": "stream",
     "text": [
      "Upper bound: 0        False\n",
      "1        False\n",
      "2        False\n",
      "3        False\n",
      "4        False\n",
      "         ...  \n",
      "49995    False\n",
      "49996    False\n",
      "49997    False\n",
      "49998    False\n",
      "49999    False\n",
      "Name: invoice_id, Length: 48842, dtype: bool\n",
      "(array([   18,    23,    37, ..., 48819, 48821, 48829], dtype=int64),)\n",
      "Lower bound: 0        False\n",
      "1        False\n",
      "2        False\n",
      "3        False\n",
      "4        False\n",
      "         ...  \n",
      "49995    False\n",
      "49996    False\n",
      "49997    False\n",
      "49998    False\n",
      "49999    False\n",
      "Name: invoice_id, Length: 48842, dtype: bool\n",
      "(array([], dtype=int64),)\n"
     ]
    }
   ],
   "source": [
    "upper = data['invoice_id'] >= (Q3+1.5*IQR)\n",
    "  \n",
    "print(\"Upper bound:\",upper)\n",
    "print(np.where(upper))\n",
    "  \n",
    "# Below Lower bound\n",
    "lower = data['invoice_id'] <= (Q1-1.5*IQR)\n",
    "print(\"Lower bound:\", lower)\n",
    "print(np.where(lower))"
   ]
  },
  {
   "cell_type": "code",
   "execution_count": 35,
   "metadata": {},
   "outputs": [
    {
     "data": {
      "text/plain": [
       "USD    44999\n",
       "CAD     3843\n",
       "Name: invoice_currency, dtype: int64"
      ]
     },
     "execution_count": 35,
     "metadata": {},
     "output_type": "execute_result"
    }
   ],
   "source": [
    "data[\"invoice_currency\"].value_counts()"
   ]
  },
  {
   "cell_type": "code",
   "execution_count": 37,
   "metadata": {},
   "outputs": [],
   "source": [
    "from sklearn.preprocessing import MinMaxScaler\n",
    "\n",
    "  \n",
    "# apply normalization techniques\n",
    "column = 'total_open_amount'\n",
    "data[column] = MinMaxScaler().fit_transform(np.array(data[column]).reshape(-1,1))"
   ]
  },
  {
   "cell_type": "code",
   "execution_count": 38,
   "metadata": {},
   "outputs": [],
   "source": [
    "data[\"amount_in_USD\"] = np.where(data.invoice_currency==\"CAD\",data.total_open_amount*0.81,data.total_open_amount)"
   ]
  },
  {
   "cell_type": "code",
   "execution_count": 39,
   "metadata": {},
   "outputs": [],
   "source": [
    "data.drop(\"invoice_currency\",axis = \"columns\",inplace=True)"
   ]
  },
  {
   "cell_type": "code",
   "execution_count": 41,
   "metadata": {},
   "outputs": [
    {
     "data": {
      "text/html": [
       "<div>\n",
       "<style scoped>\n",
       "    .dataframe tbody tr th:only-of-type {\n",
       "        vertical-align: middle;\n",
       "    }\n",
       "\n",
       "    .dataframe tbody tr th {\n",
       "        vertical-align: top;\n",
       "    }\n",
       "\n",
       "    .dataframe thead th {\n",
       "        text-align: right;\n",
       "    }\n",
       "</style>\n",
       "<table border=\"1\" class=\"dataframe\">\n",
       "  <thead>\n",
       "    <tr style=\"text-align: right;\">\n",
       "      <th></th>\n",
       "      <th>business_code</th>\n",
       "      <th>cust_number</th>\n",
       "      <th>clear_date</th>\n",
       "      <th>buisness_year</th>\n",
       "      <th>doc_id</th>\n",
       "      <th>posting_date</th>\n",
       "      <th>document_create_date</th>\n",
       "      <th>document_create_date.1</th>\n",
       "      <th>due_in_date</th>\n",
       "      <th>document type</th>\n",
       "      <th>posting_id</th>\n",
       "      <th>total_open_amount</th>\n",
       "      <th>baseline_create_date</th>\n",
       "      <th>cust_payment_terms</th>\n",
       "      <th>invoice_id</th>\n",
       "      <th>isOpen</th>\n",
       "      <th>delay</th>\n",
       "      <th>amount_in_USD</th>\n",
       "    </tr>\n",
       "  </thead>\n",
       "  <tbody>\n",
       "    <tr>\n",
       "      <td>0</td>\n",
       "      <td>U001</td>\n",
       "      <td>0100031704</td>\n",
       "      <td>2019-04-04</td>\n",
       "      <td>2019.0</td>\n",
       "      <td>1.928986e+09</td>\n",
       "      <td>2019-03-18</td>\n",
       "      <td>20190318</td>\n",
       "      <td>20190318</td>\n",
       "      <td>2019-04-02</td>\n",
       "      <td>RV</td>\n",
       "      <td>1.0</td>\n",
       "      <td>0.011637</td>\n",
       "      <td>2019-03-18</td>\n",
       "      <td>23</td>\n",
       "      <td>1.928986e+09</td>\n",
       "      <td>0</td>\n",
       "      <td>2 days</td>\n",
       "      <td>0.011637</td>\n",
       "    </tr>\n",
       "    <tr>\n",
       "      <td>1</td>\n",
       "      <td>U001</td>\n",
       "      <td>0200608118</td>\n",
       "      <td>2019-07-09</td>\n",
       "      <td>2019.0</td>\n",
       "      <td>1.929539e+09</td>\n",
       "      <td>2019-06-24</td>\n",
       "      <td>20190625</td>\n",
       "      <td>20190624</td>\n",
       "      <td>2019-07-09</td>\n",
       "      <td>RV</td>\n",
       "      <td>1.0</td>\n",
       "      <td>0.008195</td>\n",
       "      <td>2019-06-24</td>\n",
       "      <td>23</td>\n",
       "      <td>1.929539e+09</td>\n",
       "      <td>0</td>\n",
       "      <td>0 days</td>\n",
       "      <td>0.008195</td>\n",
       "    </tr>\n",
       "    <tr>\n",
       "      <td>2</td>\n",
       "      <td>U001</td>\n",
       "      <td>0200762301</td>\n",
       "      <td>2019-11-12</td>\n",
       "      <td>2019.0</td>\n",
       "      <td>1.930051e+09</td>\n",
       "      <td>2019-10-25</td>\n",
       "      <td>20191024</td>\n",
       "      <td>20191025</td>\n",
       "      <td>2019-12-04</td>\n",
       "      <td>RV</td>\n",
       "      <td>1.0</td>\n",
       "      <td>0.001056</td>\n",
       "      <td>2019-10-25</td>\n",
       "      <td>0</td>\n",
       "      <td>1.930051e+09</td>\n",
       "      <td>0</td>\n",
       "      <td>-22 days</td>\n",
       "      <td>0.001056</td>\n",
       "    </tr>\n",
       "    <tr>\n",
       "      <td>3</td>\n",
       "      <td>U001</td>\n",
       "      <td>0200865666</td>\n",
       "      <td>2019-10-31</td>\n",
       "      <td>2019.0</td>\n",
       "      <td>1.930021e+09</td>\n",
       "      <td>2019-10-16</td>\n",
       "      <td>20191016</td>\n",
       "      <td>20191016</td>\n",
       "      <td>2019-10-31</td>\n",
       "      <td>RV</td>\n",
       "      <td>1.0</td>\n",
       "      <td>0.003487</td>\n",
       "      <td>2019-10-16</td>\n",
       "      <td>23</td>\n",
       "      <td>1.930021e+09</td>\n",
       "      <td>0</td>\n",
       "      <td>0 days</td>\n",
       "      <td>0.003487</td>\n",
       "    </tr>\n",
       "    <tr>\n",
       "      <td>4</td>\n",
       "      <td>U001</td>\n",
       "      <td>0200769623</td>\n",
       "      <td>2019-06-07</td>\n",
       "      <td>2019.0</td>\n",
       "      <td>1.929378e+09</td>\n",
       "      <td>2019-05-27</td>\n",
       "      <td>20190525</td>\n",
       "      <td>20190527</td>\n",
       "      <td>2019-06-11</td>\n",
       "      <td>RV</td>\n",
       "      <td>1.0</td>\n",
       "      <td>0.010710</td>\n",
       "      <td>2019-05-27</td>\n",
       "      <td>38</td>\n",
       "      <td>1.929378e+09</td>\n",
       "      <td>0</td>\n",
       "      <td>-4 days</td>\n",
       "      <td>0.010710</td>\n",
       "    </tr>\n",
       "    <tr>\n",
       "      <td>5</td>\n",
       "      <td>U001</td>\n",
       "      <td>0200353024</td>\n",
       "      <td>NaT</td>\n",
       "      <td>2020.0</td>\n",
       "      <td>1.930878e+09</td>\n",
       "      <td>2020-05-08</td>\n",
       "      <td>20200508</td>\n",
       "      <td>20200508</td>\n",
       "      <td>2020-05-24</td>\n",
       "      <td>RV</td>\n",
       "      <td>1.0</td>\n",
       "      <td>0.002584</td>\n",
       "      <td>2020-05-01</td>\n",
       "      <td>0</td>\n",
       "      <td>1.930878e+09</td>\n",
       "      <td>1</td>\n",
       "      <td>NaT</td>\n",
       "      <td>0.002584</td>\n",
       "    </tr>\n",
       "    <tr>\n",
       "      <td>6</td>\n",
       "      <td>U001</td>\n",
       "      <td>0200020431</td>\n",
       "      <td>NaT</td>\n",
       "      <td>2020.0</td>\n",
       "      <td>1.930605e+09</td>\n",
       "      <td>2020-03-05</td>\n",
       "      <td>20200305</td>\n",
       "      <td>20200305</td>\n",
       "      <td>2020-03-24</td>\n",
       "      <td>RV</td>\n",
       "      <td>1.0</td>\n",
       "      <td>0.002651</td>\n",
       "      <td>2020-03-01</td>\n",
       "      <td>0</td>\n",
       "      <td>1.930605e+09</td>\n",
       "      <td>1</td>\n",
       "      <td>NaT</td>\n",
       "      <td>0.002651</td>\n",
       "    </tr>\n",
       "    <tr>\n",
       "      <td>7</td>\n",
       "      <td>U001</td>\n",
       "      <td>0200790107</td>\n",
       "      <td>NaT</td>\n",
       "      <td>2020.0</td>\n",
       "      <td>1.930655e+09</td>\n",
       "      <td>2020-03-15</td>\n",
       "      <td>20200315</td>\n",
       "      <td>20200315</td>\n",
       "      <td>2020-03-30</td>\n",
       "      <td>RV</td>\n",
       "      <td>1.0</td>\n",
       "      <td>0.097838</td>\n",
       "      <td>2020-03-15</td>\n",
       "      <td>0</td>\n",
       "      <td>1.930655e+09</td>\n",
       "      <td>1</td>\n",
       "      <td>NaT</td>\n",
       "      <td>0.097838</td>\n",
       "    </tr>\n",
       "    <tr>\n",
       "      <td>8</td>\n",
       "      <td>U001</td>\n",
       "      <td>0200772595</td>\n",
       "      <td>2019-12-23</td>\n",
       "      <td>2019.0</td>\n",
       "      <td>1.930251e+09</td>\n",
       "      <td>2019-12-08</td>\n",
       "      <td>20191208</td>\n",
       "      <td>20191208</td>\n",
       "      <td>2019-12-23</td>\n",
       "      <td>RV</td>\n",
       "      <td>1.0</td>\n",
       "      <td>0.018517</td>\n",
       "      <td>2019-12-08</td>\n",
       "      <td>23</td>\n",
       "      <td>1.930251e+09</td>\n",
       "      <td>0</td>\n",
       "      <td>0 days</td>\n",
       "      <td>0.018517</td>\n",
       "    </tr>\n",
       "    <tr>\n",
       "      <td>9</td>\n",
       "      <td>U001</td>\n",
       "      <td>0200416837</td>\n",
       "      <td>NaT</td>\n",
       "      <td>2020.0</td>\n",
       "      <td>1.930700e+09</td>\n",
       "      <td>2020-03-25</td>\n",
       "      <td>20200325</td>\n",
       "      <td>20200325</td>\n",
       "      <td>2020-04-08</td>\n",
       "      <td>RV</td>\n",
       "      <td>1.0</td>\n",
       "      <td>0.000163</td>\n",
       "      <td>2020-03-16</td>\n",
       "      <td>0</td>\n",
       "      <td>1.930700e+09</td>\n",
       "      <td>1</td>\n",
       "      <td>NaT</td>\n",
       "      <td>0.000163</td>\n",
       "    </tr>\n",
       "  </tbody>\n",
       "</table>\n",
       "</div>"
      ],
      "text/plain": [
       "  business_code cust_number clear_date  buisness_year        doc_id  \\\n",
       "0          U001  0100031704 2019-04-04         2019.0  1.928986e+09   \n",
       "1          U001  0200608118 2019-07-09         2019.0  1.929539e+09   \n",
       "2          U001  0200762301 2019-11-12         2019.0  1.930051e+09   \n",
       "3          U001  0200865666 2019-10-31         2019.0  1.930021e+09   \n",
       "4          U001  0200769623 2019-06-07         2019.0  1.929378e+09   \n",
       "5          U001  0200353024        NaT         2020.0  1.930878e+09   \n",
       "6          U001  0200020431        NaT         2020.0  1.930605e+09   \n",
       "7          U001  0200790107        NaT         2020.0  1.930655e+09   \n",
       "8          U001  0200772595 2019-12-23         2019.0  1.930251e+09   \n",
       "9          U001  0200416837        NaT         2020.0  1.930700e+09   \n",
       "\n",
       "  posting_date  document_create_date  document_create_date.1 due_in_date  \\\n",
       "0   2019-03-18              20190318                20190318  2019-04-02   \n",
       "1   2019-06-24              20190625                20190624  2019-07-09   \n",
       "2   2019-10-25              20191024                20191025  2019-12-04   \n",
       "3   2019-10-16              20191016                20191016  2019-10-31   \n",
       "4   2019-05-27              20190525                20190527  2019-06-11   \n",
       "5   2020-05-08              20200508                20200508  2020-05-24   \n",
       "6   2020-03-05              20200305                20200305  2020-03-24   \n",
       "7   2020-03-15              20200315                20200315  2020-03-30   \n",
       "8   2019-12-08              20191208                20191208  2019-12-23   \n",
       "9   2020-03-25              20200325                20200325  2020-04-08   \n",
       "\n",
       "  document type  posting_id  total_open_amount baseline_create_date  \\\n",
       "0            RV         1.0           0.011637           2019-03-18   \n",
       "1            RV         1.0           0.008195           2019-06-24   \n",
       "2            RV         1.0           0.001056           2019-10-25   \n",
       "3            RV         1.0           0.003487           2019-10-16   \n",
       "4            RV         1.0           0.010710           2019-05-27   \n",
       "5            RV         1.0           0.002584           2020-05-01   \n",
       "6            RV         1.0           0.002651           2020-03-01   \n",
       "7            RV         1.0           0.097838           2020-03-15   \n",
       "8            RV         1.0           0.018517           2019-12-08   \n",
       "9            RV         1.0           0.000163           2020-03-16   \n",
       "\n",
       "   cust_payment_terms    invoice_id  isOpen    delay  amount_in_USD  \n",
       "0                  23  1.928986e+09       0   2 days       0.011637  \n",
       "1                  23  1.929539e+09       0   0 days       0.008195  \n",
       "2                   0  1.930051e+09       0 -22 days       0.001056  \n",
       "3                  23  1.930021e+09       0   0 days       0.003487  \n",
       "4                  38  1.929378e+09       0  -4 days       0.010710  \n",
       "5                   0  1.930878e+09       1      NaT       0.002584  \n",
       "6                   0  1.930605e+09       1      NaT       0.002651  \n",
       "7                   0  1.930655e+09       1      NaT       0.097838  \n",
       "8                  23  1.930251e+09       0   0 days       0.018517  \n",
       "9                   0  1.930700e+09       1      NaT       0.000163  "
      ]
     },
     "execution_count": 41,
     "metadata": {},
     "output_type": "execute_result"
    }
   ],
   "source": [
    "data.head(10)"
   ]
  },
  {
   "cell_type": "code",
   "execution_count": 42,
   "metadata": {},
   "outputs": [],
   "source": [
    "data['cust_number'] = pd.to_numeric(data['cust_number'], errors='coerce').fillna(0)\n",
    "data['cust_number'] = data['cust_number'].astype(np.int64)"
   ]
  },
  {
   "cell_type": "code",
   "execution_count": 43,
   "metadata": {},
   "outputs": [
    {
     "name": "stderr",
     "output_type": "stream",
     "text": [
      "C:\\Users\\toshiba\\Anaconda3\\lib\\site-packages\\ipykernel_launcher.py:1: FutureWarning: Passing integers to fillna is deprecated, will raise a TypeError in a future version.  To retain the old behavior, pass pd.Timedelta(seconds=n) instead.\n",
      "  \"\"\"Entry point for launching an IPython kernel.\n"
     ]
    }
   ],
   "source": [
    "data[\"delay\"] = data.delay.fillna(0)"
   ]
  },
  {
   "cell_type": "code",
   "execution_count": 45,
   "metadata": {},
   "outputs": [],
   "source": [
    "data['delay'] = data['delay'].dt.days.astype('int64')"
   ]
  },
  {
   "cell_type": "code",
   "execution_count": 46,
   "metadata": {},
   "outputs": [
    {
     "data": {
      "text/html": [
       "<div>\n",
       "<style scoped>\n",
       "    .dataframe tbody tr th:only-of-type {\n",
       "        vertical-align: middle;\n",
       "    }\n",
       "\n",
       "    .dataframe tbody tr th {\n",
       "        vertical-align: top;\n",
       "    }\n",
       "\n",
       "    .dataframe thead th {\n",
       "        text-align: right;\n",
       "    }\n",
       "</style>\n",
       "<table border=\"1\" class=\"dataframe\">\n",
       "  <thead>\n",
       "    <tr style=\"text-align: right;\">\n",
       "      <th></th>\n",
       "      <th>business_code</th>\n",
       "      <th>cust_number</th>\n",
       "      <th>clear_date</th>\n",
       "      <th>buisness_year</th>\n",
       "      <th>doc_id</th>\n",
       "      <th>posting_date</th>\n",
       "      <th>document_create_date</th>\n",
       "      <th>document_create_date.1</th>\n",
       "      <th>due_in_date</th>\n",
       "      <th>document type</th>\n",
       "      <th>posting_id</th>\n",
       "      <th>total_open_amount</th>\n",
       "      <th>baseline_create_date</th>\n",
       "      <th>cust_payment_terms</th>\n",
       "      <th>invoice_id</th>\n",
       "      <th>isOpen</th>\n",
       "      <th>delay</th>\n",
       "      <th>amount_in_USD</th>\n",
       "    </tr>\n",
       "  </thead>\n",
       "  <tbody>\n",
       "    <tr>\n",
       "      <td>0</td>\n",
       "      <td>U001</td>\n",
       "      <td>100031704</td>\n",
       "      <td>2019-04-04</td>\n",
       "      <td>2019.0</td>\n",
       "      <td>1.928986e+09</td>\n",
       "      <td>2019-03-18</td>\n",
       "      <td>20190318</td>\n",
       "      <td>20190318</td>\n",
       "      <td>2019-04-02</td>\n",
       "      <td>RV</td>\n",
       "      <td>1.0</td>\n",
       "      <td>0.011637</td>\n",
       "      <td>2019-03-18</td>\n",
       "      <td>23</td>\n",
       "      <td>1.928986e+09</td>\n",
       "      <td>0</td>\n",
       "      <td>2</td>\n",
       "      <td>0.011637</td>\n",
       "    </tr>\n",
       "    <tr>\n",
       "      <td>1</td>\n",
       "      <td>U001</td>\n",
       "      <td>200608118</td>\n",
       "      <td>2019-07-09</td>\n",
       "      <td>2019.0</td>\n",
       "      <td>1.929539e+09</td>\n",
       "      <td>2019-06-24</td>\n",
       "      <td>20190625</td>\n",
       "      <td>20190624</td>\n",
       "      <td>2019-07-09</td>\n",
       "      <td>RV</td>\n",
       "      <td>1.0</td>\n",
       "      <td>0.008195</td>\n",
       "      <td>2019-06-24</td>\n",
       "      <td>23</td>\n",
       "      <td>1.929539e+09</td>\n",
       "      <td>0</td>\n",
       "      <td>0</td>\n",
       "      <td>0.008195</td>\n",
       "    </tr>\n",
       "    <tr>\n",
       "      <td>2</td>\n",
       "      <td>U001</td>\n",
       "      <td>200762301</td>\n",
       "      <td>2019-11-12</td>\n",
       "      <td>2019.0</td>\n",
       "      <td>1.930051e+09</td>\n",
       "      <td>2019-10-25</td>\n",
       "      <td>20191024</td>\n",
       "      <td>20191025</td>\n",
       "      <td>2019-12-04</td>\n",
       "      <td>RV</td>\n",
       "      <td>1.0</td>\n",
       "      <td>0.001056</td>\n",
       "      <td>2019-10-25</td>\n",
       "      <td>0</td>\n",
       "      <td>1.930051e+09</td>\n",
       "      <td>0</td>\n",
       "      <td>-22</td>\n",
       "      <td>0.001056</td>\n",
       "    </tr>\n",
       "    <tr>\n",
       "      <td>3</td>\n",
       "      <td>U001</td>\n",
       "      <td>200865666</td>\n",
       "      <td>2019-10-31</td>\n",
       "      <td>2019.0</td>\n",
       "      <td>1.930021e+09</td>\n",
       "      <td>2019-10-16</td>\n",
       "      <td>20191016</td>\n",
       "      <td>20191016</td>\n",
       "      <td>2019-10-31</td>\n",
       "      <td>RV</td>\n",
       "      <td>1.0</td>\n",
       "      <td>0.003487</td>\n",
       "      <td>2019-10-16</td>\n",
       "      <td>23</td>\n",
       "      <td>1.930021e+09</td>\n",
       "      <td>0</td>\n",
       "      <td>0</td>\n",
       "      <td>0.003487</td>\n",
       "    </tr>\n",
       "    <tr>\n",
       "      <td>4</td>\n",
       "      <td>U001</td>\n",
       "      <td>200769623</td>\n",
       "      <td>2019-06-07</td>\n",
       "      <td>2019.0</td>\n",
       "      <td>1.929378e+09</td>\n",
       "      <td>2019-05-27</td>\n",
       "      <td>20190525</td>\n",
       "      <td>20190527</td>\n",
       "      <td>2019-06-11</td>\n",
       "      <td>RV</td>\n",
       "      <td>1.0</td>\n",
       "      <td>0.010710</td>\n",
       "      <td>2019-05-27</td>\n",
       "      <td>38</td>\n",
       "      <td>1.929378e+09</td>\n",
       "      <td>0</td>\n",
       "      <td>-4</td>\n",
       "      <td>0.010710</td>\n",
       "    </tr>\n",
       "  </tbody>\n",
       "</table>\n",
       "</div>"
      ],
      "text/plain": [
       "  business_code  cust_number clear_date  buisness_year        doc_id  \\\n",
       "0          U001    100031704 2019-04-04         2019.0  1.928986e+09   \n",
       "1          U001    200608118 2019-07-09         2019.0  1.929539e+09   \n",
       "2          U001    200762301 2019-11-12         2019.0  1.930051e+09   \n",
       "3          U001    200865666 2019-10-31         2019.0  1.930021e+09   \n",
       "4          U001    200769623 2019-06-07         2019.0  1.929378e+09   \n",
       "\n",
       "  posting_date  document_create_date  document_create_date.1 due_in_date  \\\n",
       "0   2019-03-18              20190318                20190318  2019-04-02   \n",
       "1   2019-06-24              20190625                20190624  2019-07-09   \n",
       "2   2019-10-25              20191024                20191025  2019-12-04   \n",
       "3   2019-10-16              20191016                20191016  2019-10-31   \n",
       "4   2019-05-27              20190525                20190527  2019-06-11   \n",
       "\n",
       "  document type  posting_id  total_open_amount baseline_create_date  \\\n",
       "0            RV         1.0           0.011637           2019-03-18   \n",
       "1            RV         1.0           0.008195           2019-06-24   \n",
       "2            RV         1.0           0.001056           2019-10-25   \n",
       "3            RV         1.0           0.003487           2019-10-16   \n",
       "4            RV         1.0           0.010710           2019-05-27   \n",
       "\n",
       "   cust_payment_terms    invoice_id  isOpen  delay  amount_in_USD  \n",
       "0                  23  1.928986e+09       0      2       0.011637  \n",
       "1                  23  1.929539e+09       0      0       0.008195  \n",
       "2                   0  1.930051e+09       0    -22       0.001056  \n",
       "3                  23  1.930021e+09       0      0       0.003487  \n",
       "4                  38  1.929378e+09       0     -4       0.010710  "
      ]
     },
     "execution_count": 46,
     "metadata": {},
     "output_type": "execute_result"
    }
   ],
   "source": [
    "data.head()"
   ]
  },
  {
   "cell_type": "code",
   "execution_count": null,
   "metadata": {},
   "outputs": [],
   "source": [
    "#check outliers in delay"
   ]
  },
  {
   "cell_type": "code",
   "execution_count": 48,
   "metadata": {},
   "outputs": [],
   "source": [
    "# IQR\n",
    "Q1 = np.percentile(data['delay'], 25, \n",
    "                   interpolation = 'midpoint') \n",
    "  \n",
    "Q3 = np.percentile(data['delay'], 75,\n",
    "                   interpolation = 'midpoint') \n",
    "IQR = Q3 - Q1"
   ]
  },
  {
   "cell_type": "code",
   "execution_count": 49,
   "metadata": {},
   "outputs": [
    {
     "name": "stdout",
     "output_type": "stream",
     "text": [
      "Upper bound: 0        False\n",
      "1        False\n",
      "2        False\n",
      "3        False\n",
      "4        False\n",
      "         ...  \n",
      "49995    False\n",
      "49996    False\n",
      "49997     True\n",
      "49998     True\n",
      "49999    False\n",
      "Name: delay, Length: 48842, dtype: bool\n",
      "(array([   10,    11,    16, ..., 48829, 48839, 48840], dtype=int64),)\n",
      "Lower bound: 0        False\n",
      "1        False\n",
      "2         True\n",
      "3        False\n",
      "4         True\n",
      "         ...  \n",
      "49995    False\n",
      "49996    False\n",
      "49997    False\n",
      "49998    False\n",
      "49999    False\n",
      "Name: delay, Length: 48842, dtype: bool\n",
      "(array([    2,     4,    25, ..., 48828, 48831, 48836], dtype=int64),)\n"
     ]
    }
   ],
   "source": [
    "upper = data['delay'] >= (Q3+1.5*IQR)\n",
    "  \n",
    "print(\"Upper bound:\",upper)\n",
    "print(np.where(upper))\n",
    "  \n",
    "# Below Lower bound\n",
    "lower = data['delay'] <= (Q1-1.5*IQR)\n",
    "print(\"Lower bound:\", lower)\n",
    "print(np.where(lower))"
   ]
  },
  {
   "cell_type": "code",
   "execution_count": 50,
   "metadata": {},
   "outputs": [
    {
     "data": {
      "text/plain": [
       "count    48842.000000\n",
       "mean         0.024714\n",
       "std          0.030660\n",
       "min          0.000000\n",
       "25%          0.003770\n",
       "50%          0.013287\n",
       "75%          0.035895\n",
       "max          1.000000\n",
       "Name: total_open_amount, dtype: float64"
      ]
     },
     "execution_count": 50,
     "metadata": {},
     "output_type": "execute_result"
    }
   ],
   "source": [
    "data[\"total_open_amount\"].describe()"
   ]
  },
  {
   "cell_type": "code",
   "execution_count": 51,
   "metadata": {},
   "outputs": [],
   "source": [
    "import scipy as sp\n",
    "from scipy import stats\n",
    "import matplotlib.pyplot as plt\n"
   ]
  },
  {
   "cell_type": "code",
   "execution_count": 52,
   "metadata": {},
   "outputs": [
    {
     "data": {
      "image/png": "[encoded data removed]",
      "text/plain": [
       "<Figure size 432x288 with 1 Axes>"
      ]
     },
     "metadata": {},
     "output_type": "display_data"
    }
   ],
   "source": [
    "plt.hist(data.total_open_amount,bins= 100)\n",
    "plt.show()"
   ]
  },
  {
   "cell_type": "code",
   "execution_count": null,
   "metadata": {},
   "outputs": [],
   "source": [
    "#normalize data"
   ]
  },
  {
   "cell_type": "code",
   "execution_count": null,
   "metadata": {},
   "outputs": [],
   "source": [
    "\n",
    "#lets fix document type coloumn in line no 38"
   ]
  },
  {
   "cell_type": "code",
   "execution_count": 53,
   "metadata": {},
   "outputs": [
    {
     "data": {
      "text/plain": [
       "RV    48838\n",
       "X2        4\n",
       "Name: document type, dtype: int64"
      ]
     },
     "execution_count": 53,
     "metadata": {},
     "output_type": "execute_result"
    }
   ],
   "source": [
    "data[\"document type\"].value_counts()"
   ]
  },
  {
   "cell_type": "code",
   "execution_count": 54,
   "metadata": {},
   "outputs": [],
   "source": [
    "data.drop(\"document type\",axis = \"columns\",inplace=True)"
   ]
  },
  {
   "cell_type": "code",
   "execution_count": 55,
   "metadata": {},
   "outputs": [
    {
     "data": {
      "text/html": [
       "<div>\n",
       "<style scoped>\n",
       "    .dataframe tbody tr th:only-of-type {\n",
       "        vertical-align: middle;\n",
       "    }\n",
       "\n",
       "    .dataframe tbody tr th {\n",
       "        vertical-align: top;\n",
       "    }\n",
       "\n",
       "    .dataframe thead th {\n",
       "        text-align: right;\n",
       "    }\n",
       "</style>\n",
       "<table border=\"1\" class=\"dataframe\">\n",
       "  <thead>\n",
       "    <tr style=\"text-align: right;\">\n",
       "      <th></th>\n",
       "      <th>business_code</th>\n",
       "      <th>cust_number</th>\n",
       "      <th>clear_date</th>\n",
       "      <th>buisness_year</th>\n",
       "      <th>doc_id</th>\n",
       "      <th>posting_date</th>\n",
       "      <th>document_create_date</th>\n",
       "      <th>document_create_date.1</th>\n",
       "      <th>due_in_date</th>\n",
       "      <th>posting_id</th>\n",
       "      <th>total_open_amount</th>\n",
       "      <th>baseline_create_date</th>\n",
       "      <th>cust_payment_terms</th>\n",
       "      <th>invoice_id</th>\n",
       "      <th>isOpen</th>\n",
       "      <th>delay</th>\n",
       "      <th>amount_in_USD</th>\n",
       "    </tr>\n",
       "  </thead>\n",
       "  <tbody>\n",
       "    <tr>\n",
       "      <td>0</td>\n",
       "      <td>U001</td>\n",
       "      <td>100031704</td>\n",
       "      <td>2019-04-04</td>\n",
       "      <td>2019.0</td>\n",
       "      <td>1.928986e+09</td>\n",
       "      <td>2019-03-18</td>\n",
       "      <td>20190318</td>\n",
       "      <td>20190318</td>\n",
       "      <td>2019-04-02</td>\n",
       "      <td>1.0</td>\n",
       "      <td>0.011637</td>\n",
       "      <td>2019-03-18</td>\n",
       "      <td>23</td>\n",
       "      <td>1.928986e+09</td>\n",
       "      <td>0</td>\n",
       "      <td>2</td>\n",
       "      <td>0.011637</td>\n",
       "    </tr>\n",
       "    <tr>\n",
       "      <td>1</td>\n",
       "      <td>U001</td>\n",
       "      <td>200608118</td>\n",
       "      <td>2019-07-09</td>\n",
       "      <td>2019.0</td>\n",
       "      <td>1.929539e+09</td>\n",
       "      <td>2019-06-24</td>\n",
       "      <td>20190625</td>\n",
       "      <td>20190624</td>\n",
       "      <td>2019-07-09</td>\n",
       "      <td>1.0</td>\n",
       "      <td>0.008195</td>\n",
       "      <td>2019-06-24</td>\n",
       "      <td>23</td>\n",
       "      <td>1.929539e+09</td>\n",
       "      <td>0</td>\n",
       "      <td>0</td>\n",
       "      <td>0.008195</td>\n",
       "    </tr>\n",
       "    <tr>\n",
       "      <td>2</td>\n",
       "      <td>U001</td>\n",
       "      <td>200762301</td>\n",
       "      <td>2019-11-12</td>\n",
       "      <td>2019.0</td>\n",
       "      <td>1.930051e+09</td>\n",
       "      <td>2019-10-25</td>\n",
       "      <td>20191024</td>\n",
       "      <td>20191025</td>\n",
       "      <td>2019-12-04</td>\n",
       "      <td>1.0</td>\n",
       "      <td>0.001056</td>\n",
       "      <td>2019-10-25</td>\n",
       "      <td>0</td>\n",
       "      <td>1.930051e+09</td>\n",
       "      <td>0</td>\n",
       "      <td>-22</td>\n",
       "      <td>0.001056</td>\n",
       "    </tr>\n",
       "    <tr>\n",
       "      <td>3</td>\n",
       "      <td>U001</td>\n",
       "      <td>200865666</td>\n",
       "      <td>2019-10-31</td>\n",
       "      <td>2019.0</td>\n",
       "      <td>1.930021e+09</td>\n",
       "      <td>2019-10-16</td>\n",
       "      <td>20191016</td>\n",
       "      <td>20191016</td>\n",
       "      <td>2019-10-31</td>\n",
       "      <td>1.0</td>\n",
       "      <td>0.003487</td>\n",
       "      <td>2019-10-16</td>\n",
       "      <td>23</td>\n",
       "      <td>1.930021e+09</td>\n",
       "      <td>0</td>\n",
       "      <td>0</td>\n",
       "      <td>0.003487</td>\n",
       "    </tr>\n",
       "    <tr>\n",
       "      <td>4</td>\n",
       "      <td>U001</td>\n",
       "      <td>200769623</td>\n",
       "      <td>2019-06-07</td>\n",
       "      <td>2019.0</td>\n",
       "      <td>1.929378e+09</td>\n",
       "      <td>2019-05-27</td>\n",
       "      <td>20190525</td>\n",
       "      <td>20190527</td>\n",
       "      <td>2019-06-11</td>\n",
       "      <td>1.0</td>\n",
       "      <td>0.010710</td>\n",
       "      <td>2019-05-27</td>\n",
       "      <td>38</td>\n",
       "      <td>1.929378e+09</td>\n",
       "      <td>0</td>\n",
       "      <td>-4</td>\n",
       "      <td>0.010710</td>\n",
       "    </tr>\n",
       "  </tbody>\n",
       "</table>\n",
       "</div>"
      ],
      "text/plain": [
       "  business_code  cust_number clear_date  buisness_year        doc_id  \\\n",
       "0          U001    100031704 2019-04-04         2019.0  1.928986e+09   \n",
       "1          U001    200608118 2019-07-09         2019.0  1.929539e+09   \n",
       "2          U001    200762301 2019-11-12         2019.0  1.930051e+09   \n",
       "3          U001    200865666 2019-10-31         2019.0  1.930021e+09   \n",
       "4          U001    200769623 2019-06-07         2019.0  1.929378e+09   \n",
       "\n",
       "  posting_date  document_create_date  document_create_date.1 due_in_date  \\\n",
       "0   2019-03-18              20190318                20190318  2019-04-02   \n",
       "1   2019-06-24              20190625                20190624  2019-07-09   \n",
       "2   2019-10-25              20191024                20191025  2019-12-04   \n",
       "3   2019-10-16              20191016                20191016  2019-10-31   \n",
       "4   2019-05-27              20190525                20190527  2019-06-11   \n",
       "\n",
       "   posting_id  total_open_amount baseline_create_date  cust_payment_terms  \\\n",
       "0         1.0           0.011637           2019-03-18                  23   \n",
       "1         1.0           0.008195           2019-06-24                  23   \n",
       "2         1.0           0.001056           2019-10-25                   0   \n",
       "3         1.0           0.003487           2019-10-16                  23   \n",
       "4         1.0           0.010710           2019-05-27                  38   \n",
       "\n",
       "     invoice_id  isOpen  delay  amount_in_USD  \n",
       "0  1.928986e+09       0      2       0.011637  \n",
       "1  1.929539e+09       0      0       0.008195  \n",
       "2  1.930051e+09       0    -22       0.001056  \n",
       "3  1.930021e+09       0      0       0.003487  \n",
       "4  1.929378e+09       0     -4       0.010710  "
      ]
     },
     "execution_count": 55,
     "metadata": {},
     "output_type": "execute_result"
    }
   ],
   "source": [
    "data.head()"
   ]
  },
  {
   "cell_type": "code",
   "execution_count": 56,
   "metadata": {},
   "outputs": [
    {
     "data": {
      "text/plain": [
       "U001    44244\n",
       "CA02     3842\n",
       "U013      588\n",
       "U002      154\n",
       "U005       12\n",
       "U007        2\n",
       "Name: business_code, dtype: int64"
      ]
     },
     "execution_count": 56,
     "metadata": {},
     "output_type": "execute_result"
    }
   ],
   "source": [
    "data[\"business_code\"].value_counts()\n"
   ]
  },
  {
   "cell_type": "code",
   "execution_count": 57,
   "metadata": {},
   "outputs": [],
   "source": [
    "#fix buisness code"
   ]
  },
  {
   "cell_type": "code",
   "execution_count": 58,
   "metadata": {},
   "outputs": [],
   "source": [
    "data[\"business_code\"] = data[\"business_code\"].astype('category')#covnert into category datatyp"
   ]
  },
  {
   "cell_type": "code",
   "execution_count": 59,
   "metadata": {},
   "outputs": [],
   "source": [
    "data[\"business_code\"] = data[\"business_code\"].cat.codes#converted into categorical"
   ]
  },
  {
   "cell_type": "code",
   "execution_count": 60,
   "metadata": {},
   "outputs": [],
   "source": [
    "series = pd.value_counts(data.business_code)\n",
    "mask = (series/series.sum() * 100).lt(1)\n",
    "# To replace df['column'] use np.where I.e \n",
    "data['business_code'] = np.where(data['business_code'].isin(series[mask].index),0,data['business_code'])"
   ]
  },
  {
   "cell_type": "code",
   "execution_count": 61,
   "metadata": {},
   "outputs": [
    {
     "data": {
      "text/plain": [
       "1    44244\n",
       "0     4010\n",
       "5      588\n",
       "Name: business_code, dtype: int64"
      ]
     },
     "execution_count": 61,
     "metadata": {},
     "output_type": "execute_result"
    }
   ],
   "source": [
    "data[\"business_code\"].value_counts()\n"
   ]
  },
  {
   "cell_type": "code",
   "execution_count": 62,
   "metadata": {},
   "outputs": [],
   "source": [
    "#fix buisness year"
   ]
  },
  {
   "cell_type": "code",
   "execution_count": 63,
   "metadata": {},
   "outputs": [],
   "source": [
    "data[\"buisness_year\"] = data[\"buisness_year\"].astype('category')#covnert into category datatype"
   ]
  },
  {
   "cell_type": "code",
   "execution_count": 64,
   "metadata": {},
   "outputs": [],
   "source": [
    "data[\"buisness_year\"] = data[\"buisness_year\"].cat.codes#converted into categorical"
   ]
  },
  {
   "cell_type": "code",
   "execution_count": null,
   "metadata": {},
   "outputs": [],
   "source": [
    "#fix amount in usd"
   ]
  },
  {
   "cell_type": "code",
   "execution_count": 66,
   "metadata": {},
   "outputs": [
    {
     "data": {
      "text/plain": [
       "0        0.011637\n",
       "1        0.008195\n",
       "2        0.001056\n",
       "3        0.003487\n",
       "4        0.010710\n",
       "           ...   \n",
       "49995    0.017040\n",
       "49996    0.015259\n",
       "49997    0.015181\n",
       "49998    0.001233\n",
       "49999    0.016469\n",
       "Name: total_open_amount, Length: 48842, dtype: float64"
      ]
     },
     "execution_count": 66,
     "metadata": {},
     "output_type": "execute_result"
    }
   ],
   "source": [
    "data.total_open_amount"
   ]
  },
  {
   "cell_type": "code",
   "execution_count": 67,
   "metadata": {},
   "outputs": [
    {
     "data": {
      "text/plain": [
       "0        0.011637\n",
       "1        0.008195\n",
       "2        0.001056\n",
       "3        0.003487\n",
       "4        0.010710\n",
       "           ...   \n",
       "49995    0.017040\n",
       "49996    0.015259\n",
       "49997    0.015181\n",
       "49998    0.001233\n",
       "49999    0.016469\n",
       "Name: amount_in_USD, Length: 48842, dtype: float64"
      ]
     },
     "execution_count": 67,
     "metadata": {},
     "output_type": "execute_result"
    }
   ],
   "source": [
    "data.amount_in_USD"
   ]
  },
  {
   "cell_type": "code",
   "execution_count": 68,
   "metadata": {},
   "outputs": [],
   "source": [
    "#del useless coloumn"
   ]
  },
  {
   "cell_type": "code",
   "execution_count": 69,
   "metadata": {},
   "outputs": [],
   "source": [
    "\n",
    "del data[\"document_create_date\"]"
   ]
  },
  {
   "cell_type": "code",
   "execution_count": 70,
   "metadata": {},
   "outputs": [],
   "source": [
    "del data[\"posting_id\"]"
   ]
  },
  {
   "cell_type": "code",
   "execution_count": 71,
   "metadata": {},
   "outputs": [],
   "source": [
    "# letas analyze doc create date.1"
   ]
  },
  {
   "cell_type": "code",
   "execution_count": 72,
   "metadata": {},
   "outputs": [],
   "source": [
    "data['document_create_date.1'] = pd.to_datetime(data['document_create_date.1'], format='%Y%m%d')"
   ]
  },
  {
   "cell_type": "code",
   "execution_count": 73,
   "metadata": {},
   "outputs": [],
   "source": [
    "data.rename(columns = {'document_create_date.1':'document_create_date'}, inplace = True)"
   ]
  },
  {
   "cell_type": "code",
   "execution_count": 74,
   "metadata": {},
   "outputs": [],
   "source": [
    "data[\"diff_posting_create\"] = data.posting_date - data.document_create_date"
   ]
  },
  {
   "cell_type": "code",
   "execution_count": 75,
   "metadata": {},
   "outputs": [
    {
     "data": {
      "text/plain": [
       "0 days      48838\n",
       "18 days         2\n",
       "10 days         1\n",
       "107 days        1\n",
       "Name: diff_posting_create, dtype: int64"
      ]
     },
     "execution_count": 75,
     "metadata": {},
     "output_type": "execute_result"
    }
   ],
   "source": [
    "data[\"diff_posting_create\"].value_counts()"
   ]
  },
  {
   "cell_type": "code",
   "execution_count": 76,
   "metadata": {},
   "outputs": [],
   "source": [
    "del data[\"diff_posting_create\"]"
   ]
  },
  {
   "cell_type": "code",
   "execution_count": 77,
   "metadata": {},
   "outputs": [],
   "source": [
    "\n",
    "data[\"diff_posting_due\"] = data.due_in_date - data.posting_date"
   ]
  },
  {
   "cell_type": "code",
   "execution_count": 78,
   "metadata": {},
   "outputs": [
    {
     "data": {
      "text/plain": [
       "15 days     36781\n",
       "10 days      1186\n",
       "20 days      1047\n",
       "11 days      1022\n",
       "65 days       912\n",
       "            ...  \n",
       "113 days        1\n",
       "-7 days         1\n",
       "29 days         1\n",
       "-69 days        1\n",
       "112 days        1\n",
       "Name: diff_posting_due, Length: 82, dtype: int64"
      ]
     },
     "execution_count": 78,
     "metadata": {},
     "output_type": "execute_result"
    }
   ],
   "source": [
    "\n",
    "data[\"diff_posting_due\"].value_counts()"
   ]
  },
  {
   "cell_type": "code",
   "execution_count": 79,
   "metadata": {},
   "outputs": [
    {
     "data": {
      "text/html": [
       "<div>\n",
       "<style scoped>\n",
       "    .dataframe tbody tr th:only-of-type {\n",
       "        vertical-align: middle;\n",
       "    }\n",
       "\n",
       "    .dataframe tbody tr th {\n",
       "        vertical-align: top;\n",
       "    }\n",
       "\n",
       "    .dataframe thead th {\n",
       "        text-align: right;\n",
       "    }\n",
       "</style>\n",
       "<table border=\"1\" class=\"dataframe\">\n",
       "  <thead>\n",
       "    <tr style=\"text-align: right;\">\n",
       "      <th></th>\n",
       "      <th>business_code</th>\n",
       "      <th>cust_number</th>\n",
       "      <th>clear_date</th>\n",
       "      <th>buisness_year</th>\n",
       "      <th>doc_id</th>\n",
       "      <th>posting_date</th>\n",
       "      <th>document_create_date</th>\n",
       "      <th>due_in_date</th>\n",
       "      <th>total_open_amount</th>\n",
       "      <th>baseline_create_date</th>\n",
       "      <th>cust_payment_terms</th>\n",
       "      <th>invoice_id</th>\n",
       "      <th>isOpen</th>\n",
       "      <th>delay</th>\n",
       "      <th>amount_in_USD</th>\n",
       "      <th>diff_posting_due</th>\n",
       "    </tr>\n",
       "  </thead>\n",
       "  <tbody>\n",
       "    <tr>\n",
       "      <td>0</td>\n",
       "      <td>1</td>\n",
       "      <td>100031704</td>\n",
       "      <td>2019-04-04</td>\n",
       "      <td>0</td>\n",
       "      <td>1.928986e+09</td>\n",
       "      <td>2019-03-18</td>\n",
       "      <td>2019-03-18</td>\n",
       "      <td>2019-04-02</td>\n",
       "      <td>0.011637</td>\n",
       "      <td>2019-03-18</td>\n",
       "      <td>23</td>\n",
       "      <td>1.928986e+09</td>\n",
       "      <td>0</td>\n",
       "      <td>2</td>\n",
       "      <td>0.011637</td>\n",
       "      <td>15 days</td>\n",
       "    </tr>\n",
       "    <tr>\n",
       "      <td>1</td>\n",
       "      <td>1</td>\n",
       "      <td>200608118</td>\n",
       "      <td>2019-07-09</td>\n",
       "      <td>0</td>\n",
       "      <td>1.929539e+09</td>\n",
       "      <td>2019-06-24</td>\n",
       "      <td>2019-06-24</td>\n",
       "      <td>2019-07-09</td>\n",
       "      <td>0.008195</td>\n",
       "      <td>2019-06-24</td>\n",
       "      <td>23</td>\n",
       "      <td>1.929539e+09</td>\n",
       "      <td>0</td>\n",
       "      <td>0</td>\n",
       "      <td>0.008195</td>\n",
       "      <td>15 days</td>\n",
       "    </tr>\n",
       "    <tr>\n",
       "      <td>2</td>\n",
       "      <td>1</td>\n",
       "      <td>200762301</td>\n",
       "      <td>2019-11-12</td>\n",
       "      <td>0</td>\n",
       "      <td>1.930051e+09</td>\n",
       "      <td>2019-10-25</td>\n",
       "      <td>2019-10-25</td>\n",
       "      <td>2019-12-04</td>\n",
       "      <td>0.001056</td>\n",
       "      <td>2019-10-25</td>\n",
       "      <td>0</td>\n",
       "      <td>1.930051e+09</td>\n",
       "      <td>0</td>\n",
       "      <td>-22</td>\n",
       "      <td>0.001056</td>\n",
       "      <td>40 days</td>\n",
       "    </tr>\n",
       "    <tr>\n",
       "      <td>3</td>\n",
       "      <td>1</td>\n",
       "      <td>200865666</td>\n",
       "      <td>2019-10-31</td>\n",
       "      <td>0</td>\n",
       "      <td>1.930021e+09</td>\n",
       "      <td>2019-10-16</td>\n",
       "      <td>2019-10-16</td>\n",
       "      <td>2019-10-31</td>\n",
       "      <td>0.003487</td>\n",
       "      <td>2019-10-16</td>\n",
       "      <td>23</td>\n",
       "      <td>1.930021e+09</td>\n",
       "      <td>0</td>\n",
       "      <td>0</td>\n",
       "      <td>0.003487</td>\n",
       "      <td>15 days</td>\n",
       "    </tr>\n",
       "    <tr>\n",
       "      <td>4</td>\n",
       "      <td>1</td>\n",
       "      <td>200769623</td>\n",
       "      <td>2019-06-07</td>\n",
       "      <td>0</td>\n",
       "      <td>1.929378e+09</td>\n",
       "      <td>2019-05-27</td>\n",
       "      <td>2019-05-27</td>\n",
       "      <td>2019-06-11</td>\n",
       "      <td>0.010710</td>\n",
       "      <td>2019-05-27</td>\n",
       "      <td>38</td>\n",
       "      <td>1.929378e+09</td>\n",
       "      <td>0</td>\n",
       "      <td>-4</td>\n",
       "      <td>0.010710</td>\n",
       "      <td>15 days</td>\n",
       "    </tr>\n",
       "  </tbody>\n",
       "</table>\n",
       "</div>"
      ],
      "text/plain": [
       "   business_code  cust_number clear_date  buisness_year        doc_id  \\\n",
       "0              1    100031704 2019-04-04              0  1.928986e+09   \n",
       "1              1    200608118 2019-07-09              0  1.929539e+09   \n",
       "2              1    200762301 2019-11-12              0  1.930051e+09   \n",
       "3              1    200865666 2019-10-31              0  1.930021e+09   \n",
       "4              1    200769623 2019-06-07              0  1.929378e+09   \n",
       "\n",
       "  posting_date document_create_date due_in_date  total_open_amount  \\\n",
       "0   2019-03-18           2019-03-18  2019-04-02           0.011637   \n",
       "1   2019-06-24           2019-06-24  2019-07-09           0.008195   \n",
       "2   2019-10-25           2019-10-25  2019-12-04           0.001056   \n",
       "3   2019-10-16           2019-10-16  2019-10-31           0.003487   \n",
       "4   2019-05-27           2019-05-27  2019-06-11           0.010710   \n",
       "\n",
       "  baseline_create_date  cust_payment_terms    invoice_id  isOpen  delay  \\\n",
       "0           2019-03-18                  23  1.928986e+09       0      2   \n",
       "1           2019-06-24                  23  1.929539e+09       0      0   \n",
       "2           2019-10-25                   0  1.930051e+09       0    -22   \n",
       "3           2019-10-16                  23  1.930021e+09       0      0   \n",
       "4           2019-05-27                  38  1.929378e+09       0     -4   \n",
       "\n",
       "   amount_in_USD diff_posting_due  \n",
       "0       0.011637          15 days  \n",
       "1       0.008195          15 days  \n",
       "2       0.001056          40 days  \n",
       "3       0.003487          15 days  \n",
       "4       0.010710          15 days  "
      ]
     },
     "execution_count": 79,
     "metadata": {},
     "output_type": "execute_result"
    }
   ],
   "source": [
    "data.head()"
   ]
  },
  {
   "cell_type": "code",
   "execution_count": 80,
   "metadata": {},
   "outputs": [],
   "source": [
    "data['diff_posting_due'] = data['diff_posting_due'].dt.days.astype('int64')"
   ]
  },
  {
   "cell_type": "code",
   "execution_count": 81,
   "metadata": {},
   "outputs": [
    {
     "data": {
      "text/plain": [
       "count    48842.000000\n",
       "mean        20.083596\n",
       "std         14.356006\n",
       "min          0.000000\n",
       "25%          0.000000\n",
       "50%         23.000000\n",
       "75%         38.000000\n",
       "max         38.000000\n",
       "Name: cust_payment_terms, dtype: float64"
      ]
     },
     "execution_count": 81,
     "metadata": {},
     "output_type": "execute_result"
    }
   ],
   "source": [
    "data.cust_payment_terms.describe()"
   ]
  },
  {
   "cell_type": "code",
   "execution_count": 82,
   "metadata": {},
   "outputs": [
    {
     "data": {
      "text/html": [
       "<div>\n",
       "<style scoped>\n",
       "    .dataframe tbody tr th:only-of-type {\n",
       "        vertical-align: middle;\n",
       "    }\n",
       "\n",
       "    .dataframe tbody tr th {\n",
       "        vertical-align: top;\n",
       "    }\n",
       "\n",
       "    .dataframe thead th {\n",
       "        text-align: right;\n",
       "    }\n",
       "</style>\n",
       "<table border=\"1\" class=\"dataframe\">\n",
       "  <thead>\n",
       "    <tr style=\"text-align: right;\">\n",
       "      <th></th>\n",
       "      <th>business_code</th>\n",
       "      <th>cust_number</th>\n",
       "      <th>clear_date</th>\n",
       "      <th>buisness_year</th>\n",
       "      <th>doc_id</th>\n",
       "      <th>posting_date</th>\n",
       "      <th>document_create_date</th>\n",
       "      <th>due_in_date</th>\n",
       "      <th>total_open_amount</th>\n",
       "      <th>baseline_create_date</th>\n",
       "      <th>cust_payment_terms</th>\n",
       "      <th>invoice_id</th>\n",
       "      <th>isOpen</th>\n",
       "      <th>delay</th>\n",
       "      <th>amount_in_USD</th>\n",
       "      <th>diff_posting_due</th>\n",
       "    </tr>\n",
       "  </thead>\n",
       "  <tbody>\n",
       "    <tr>\n",
       "      <td>0</td>\n",
       "      <td>1</td>\n",
       "      <td>100031704</td>\n",
       "      <td>2019-04-04</td>\n",
       "      <td>0</td>\n",
       "      <td>1.928986e+09</td>\n",
       "      <td>2019-03-18</td>\n",
       "      <td>2019-03-18</td>\n",
       "      <td>2019-04-02</td>\n",
       "      <td>0.011637</td>\n",
       "      <td>2019-03-18</td>\n",
       "      <td>23</td>\n",
       "      <td>1.928986e+09</td>\n",
       "      <td>0</td>\n",
       "      <td>2</td>\n",
       "      <td>0.011637</td>\n",
       "      <td>15</td>\n",
       "    </tr>\n",
       "    <tr>\n",
       "      <td>1</td>\n",
       "      <td>1</td>\n",
       "      <td>200608118</td>\n",
       "      <td>2019-07-09</td>\n",
       "      <td>0</td>\n",
       "      <td>1.929539e+09</td>\n",
       "      <td>2019-06-24</td>\n",
       "      <td>2019-06-24</td>\n",
       "      <td>2019-07-09</td>\n",
       "      <td>0.008195</td>\n",
       "      <td>2019-06-24</td>\n",
       "      <td>23</td>\n",
       "      <td>1.929539e+09</td>\n",
       "      <td>0</td>\n",
       "      <td>0</td>\n",
       "      <td>0.008195</td>\n",
       "      <td>15</td>\n",
       "    </tr>\n",
       "    <tr>\n",
       "      <td>2</td>\n",
       "      <td>1</td>\n",
       "      <td>200762301</td>\n",
       "      <td>2019-11-12</td>\n",
       "      <td>0</td>\n",
       "      <td>1.930051e+09</td>\n",
       "      <td>2019-10-25</td>\n",
       "      <td>2019-10-25</td>\n",
       "      <td>2019-12-04</td>\n",
       "      <td>0.001056</td>\n",
       "      <td>2019-10-25</td>\n",
       "      <td>0</td>\n",
       "      <td>1.930051e+09</td>\n",
       "      <td>0</td>\n",
       "      <td>-22</td>\n",
       "      <td>0.001056</td>\n",
       "      <td>40</td>\n",
       "    </tr>\n",
       "    <tr>\n",
       "      <td>3</td>\n",
       "      <td>1</td>\n",
       "      <td>200865666</td>\n",
       "      <td>2019-10-31</td>\n",
       "      <td>0</td>\n",
       "      <td>1.930021e+09</td>\n",
       "      <td>2019-10-16</td>\n",
       "      <td>2019-10-16</td>\n",
       "      <td>2019-10-31</td>\n",
       "      <td>0.003487</td>\n",
       "      <td>2019-10-16</td>\n",
       "      <td>23</td>\n",
       "      <td>1.930021e+09</td>\n",
       "      <td>0</td>\n",
       "      <td>0</td>\n",
       "      <td>0.003487</td>\n",
       "      <td>15</td>\n",
       "    </tr>\n",
       "    <tr>\n",
       "      <td>4</td>\n",
       "      <td>1</td>\n",
       "      <td>200769623</td>\n",
       "      <td>2019-06-07</td>\n",
       "      <td>0</td>\n",
       "      <td>1.929378e+09</td>\n",
       "      <td>2019-05-27</td>\n",
       "      <td>2019-05-27</td>\n",
       "      <td>2019-06-11</td>\n",
       "      <td>0.010710</td>\n",
       "      <td>2019-05-27</td>\n",
       "      <td>38</td>\n",
       "      <td>1.929378e+09</td>\n",
       "      <td>0</td>\n",
       "      <td>-4</td>\n",
       "      <td>0.010710</td>\n",
       "      <td>15</td>\n",
       "    </tr>\n",
       "  </tbody>\n",
       "</table>\n",
       "</div>"
      ],
      "text/plain": [
       "   business_code  cust_number clear_date  buisness_year        doc_id  \\\n",
       "0              1    100031704 2019-04-04              0  1.928986e+09   \n",
       "1              1    200608118 2019-07-09              0  1.929539e+09   \n",
       "2              1    200762301 2019-11-12              0  1.930051e+09   \n",
       "3              1    200865666 2019-10-31              0  1.930021e+09   \n",
       "4              1    200769623 2019-06-07              0  1.929378e+09   \n",
       "\n",
       "  posting_date document_create_date due_in_date  total_open_amount  \\\n",
       "0   2019-03-18           2019-03-18  2019-04-02           0.011637   \n",
       "1   2019-06-24           2019-06-24  2019-07-09           0.008195   \n",
       "2   2019-10-25           2019-10-25  2019-12-04           0.001056   \n",
       "3   2019-10-16           2019-10-16  2019-10-31           0.003487   \n",
       "4   2019-05-27           2019-05-27  2019-06-11           0.010710   \n",
       "\n",
       "  baseline_create_date  cust_payment_terms    invoice_id  isOpen  delay  \\\n",
       "0           2019-03-18                  23  1.928986e+09       0      2   \n",
       "1           2019-06-24                  23  1.929539e+09       0      0   \n",
       "2           2019-10-25                   0  1.930051e+09       0    -22   \n",
       "3           2019-10-16                  23  1.930021e+09       0      0   \n",
       "4           2019-05-27                  38  1.929378e+09       0     -4   \n",
       "\n",
       "   amount_in_USD  diff_posting_due  \n",
       "0       0.011637                15  \n",
       "1       0.008195                15  \n",
       "2       0.001056                40  \n",
       "3       0.003487                15  \n",
       "4       0.010710                15  "
      ]
     },
     "execution_count": 82,
     "metadata": {},
     "output_type": "execute_result"
    }
   ],
   "source": [
    "data.head()"
   ]
  },
  {
   "cell_type": "code",
   "execution_count": 83,
   "metadata": {},
   "outputs": [
    {
     "data": {
      "text/plain": [
       "0    33976\n",
       "1    14866\n",
       "Name: buisness_year, dtype: int64"
      ]
     },
     "execution_count": 83,
     "metadata": {},
     "output_type": "execute_result"
    }
   ],
   "source": [
    "data['buisness_year'].value_counts()"
   ]
  },
  {
   "cell_type": "code",
   "execution_count": 84,
   "metadata": {},
   "outputs": [],
   "source": [
    "#DROPPING THE ROWS WHERE THE DOCUMENT FOR INVOICES ARE CREATED BEFORE THE BASELINE CREATE DATE"
   ]
  },
  {
   "cell_type": "code",
   "execution_count": 85,
   "metadata": {},
   "outputs": [],
   "source": [
    "temp = pd.Series(data['document_create_date'] - data['baseline_create_date']).dt.days"
   ]
  },
  {
   "cell_type": "code",
   "execution_count": 86,
   "metadata": {},
   "outputs": [],
   "source": [
    "rows_to_drop = temp.value_counts().to_frame(name = 'count')"
   ]
  },
  {
   "cell_type": "code",
   "execution_count": 87,
   "metadata": {},
   "outputs": [
    {
     "data": {
      "text/plain": [
       "count    3122\n",
       "dtype: int64"
      ]
     },
     "execution_count": 87,
     "metadata": {},
     "output_type": "execute_result"
    }
   ],
   "source": [
    "#no of rows drop satisfyin the cond\n",
    "rows_to_drop[(rows_to_drop.index <0)].sum()"
   ]
  },
  {
   "cell_type": "code",
   "execution_count": 88,
   "metadata": {},
   "outputs": [],
   "source": [
    "\n",
    "data = data[((temp==0) | (temp>0))].reset_index(drop=True)"
   ]
  },
  {
   "cell_type": "code",
   "execution_count": 90,
   "metadata": {},
   "outputs": [
    {
     "data": {
      "text/plain": [
       "(45720, 16)"
      ]
     },
     "execution_count": 90,
     "metadata": {},
     "output_type": "execute_result"
    }
   ],
   "source": [
    "data.shape"
   ]
  },
  {
   "cell_type": "code",
   "execution_count": 91,
   "metadata": {},
   "outputs": [],
   "source": [
    "del data[\"document_create_date\"]"
   ]
  },
  {
   "cell_type": "code",
   "execution_count": 92,
   "metadata": {},
   "outputs": [
    {
     "data": {
      "text/html": [
       "<div>\n",
       "<style scoped>\n",
       "    .dataframe tbody tr th:only-of-type {\n",
       "        vertical-align: middle;\n",
       "    }\n",
       "\n",
       "    .dataframe tbody tr th {\n",
       "        vertical-align: top;\n",
       "    }\n",
       "\n",
       "    .dataframe thead th {\n",
       "        text-align: right;\n",
       "    }\n",
       "</style>\n",
       "<table border=\"1\" class=\"dataframe\">\n",
       "  <thead>\n",
       "    <tr style=\"text-align: right;\">\n",
       "      <th></th>\n",
       "      <th>business_code</th>\n",
       "      <th>cust_number</th>\n",
       "      <th>clear_date</th>\n",
       "      <th>buisness_year</th>\n",
       "      <th>doc_id</th>\n",
       "      <th>posting_date</th>\n",
       "      <th>due_in_date</th>\n",
       "      <th>total_open_amount</th>\n",
       "      <th>baseline_create_date</th>\n",
       "      <th>cust_payment_terms</th>\n",
       "      <th>invoice_id</th>\n",
       "      <th>isOpen</th>\n",
       "      <th>delay</th>\n",
       "      <th>amount_in_USD</th>\n",
       "      <th>diff_posting_due</th>\n",
       "    </tr>\n",
       "  </thead>\n",
       "  <tbody>\n",
       "    <tr>\n",
       "      <td>0</td>\n",
       "      <td>1</td>\n",
       "      <td>100031704</td>\n",
       "      <td>2019-04-04</td>\n",
       "      <td>0</td>\n",
       "      <td>1.928986e+09</td>\n",
       "      <td>2019-03-18</td>\n",
       "      <td>2019-04-02</td>\n",
       "      <td>0.011637</td>\n",
       "      <td>2019-03-18</td>\n",
       "      <td>23</td>\n",
       "      <td>1.928986e+09</td>\n",
       "      <td>0</td>\n",
       "      <td>2</td>\n",
       "      <td>0.011637</td>\n",
       "      <td>15</td>\n",
       "    </tr>\n",
       "    <tr>\n",
       "      <td>1</td>\n",
       "      <td>1</td>\n",
       "      <td>200608118</td>\n",
       "      <td>2019-07-09</td>\n",
       "      <td>0</td>\n",
       "      <td>1.929539e+09</td>\n",
       "      <td>2019-06-24</td>\n",
       "      <td>2019-07-09</td>\n",
       "      <td>0.008195</td>\n",
       "      <td>2019-06-24</td>\n",
       "      <td>23</td>\n",
       "      <td>1.929539e+09</td>\n",
       "      <td>0</td>\n",
       "      <td>0</td>\n",
       "      <td>0.008195</td>\n",
       "      <td>15</td>\n",
       "    </tr>\n",
       "    <tr>\n",
       "      <td>2</td>\n",
       "      <td>1</td>\n",
       "      <td>200762301</td>\n",
       "      <td>2019-11-12</td>\n",
       "      <td>0</td>\n",
       "      <td>1.930051e+09</td>\n",
       "      <td>2019-10-25</td>\n",
       "      <td>2019-12-04</td>\n",
       "      <td>0.001056</td>\n",
       "      <td>2019-10-25</td>\n",
       "      <td>0</td>\n",
       "      <td>1.930051e+09</td>\n",
       "      <td>0</td>\n",
       "      <td>-22</td>\n",
       "      <td>0.001056</td>\n",
       "      <td>40</td>\n",
       "    </tr>\n",
       "    <tr>\n",
       "      <td>3</td>\n",
       "      <td>1</td>\n",
       "      <td>200865666</td>\n",
       "      <td>2019-10-31</td>\n",
       "      <td>0</td>\n",
       "      <td>1.930021e+09</td>\n",
       "      <td>2019-10-16</td>\n",
       "      <td>2019-10-31</td>\n",
       "      <td>0.003487</td>\n",
       "      <td>2019-10-16</td>\n",
       "      <td>23</td>\n",
       "      <td>1.930021e+09</td>\n",
       "      <td>0</td>\n",
       "      <td>0</td>\n",
       "      <td>0.003487</td>\n",
       "      <td>15</td>\n",
       "    </tr>\n",
       "    <tr>\n",
       "      <td>4</td>\n",
       "      <td>1</td>\n",
       "      <td>200769623</td>\n",
       "      <td>2019-06-07</td>\n",
       "      <td>0</td>\n",
       "      <td>1.929378e+09</td>\n",
       "      <td>2019-05-27</td>\n",
       "      <td>2019-06-11</td>\n",
       "      <td>0.010710</td>\n",
       "      <td>2019-05-27</td>\n",
       "      <td>38</td>\n",
       "      <td>1.929378e+09</td>\n",
       "      <td>0</td>\n",
       "      <td>-4</td>\n",
       "      <td>0.010710</td>\n",
       "      <td>15</td>\n",
       "    </tr>\n",
       "  </tbody>\n",
       "</table>\n",
       "</div>"
      ],
      "text/plain": [
       "   business_code  cust_number clear_date  buisness_year        doc_id  \\\n",
       "0              1    100031704 2019-04-04              0  1.928986e+09   \n",
       "1              1    200608118 2019-07-09              0  1.929539e+09   \n",
       "2              1    200762301 2019-11-12              0  1.930051e+09   \n",
       "3              1    200865666 2019-10-31              0  1.930021e+09   \n",
       "4              1    200769623 2019-06-07              0  1.929378e+09   \n",
       "\n",
       "  posting_date due_in_date  total_open_amount baseline_create_date  \\\n",
       "0   2019-03-18  2019-04-02           0.011637           2019-03-18   \n",
       "1   2019-06-24  2019-07-09           0.008195           2019-06-24   \n",
       "2   2019-10-25  2019-12-04           0.001056           2019-10-25   \n",
       "3   2019-10-16  2019-10-31           0.003487           2019-10-16   \n",
       "4   2019-05-27  2019-06-11           0.010710           2019-05-27   \n",
       "\n",
       "   cust_payment_terms    invoice_id  isOpen  delay  amount_in_USD  \\\n",
       "0                  23  1.928986e+09       0      2       0.011637   \n",
       "1                  23  1.929539e+09       0      0       0.008195   \n",
       "2                   0  1.930051e+09       0    -22       0.001056   \n",
       "3                  23  1.930021e+09       0      0       0.003487   \n",
       "4                  38  1.929378e+09       0     -4       0.010710   \n",
       "\n",
       "   diff_posting_due  \n",
       "0                15  \n",
       "1                15  \n",
       "2                40  \n",
       "3                15  \n",
       "4                15  "
      ]
     },
     "execution_count": 92,
     "metadata": {},
     "output_type": "execute_result"
    }
   ],
   "source": [
    "data.head()"
   ]
  },
  {
   "cell_type": "code",
   "execution_count": 93,
   "metadata": {},
   "outputs": [],
   "source": [
    "\n",
    "# lets analyze invoice id and doc id"
   ]
  },
  {
   "cell_type": "code",
   "execution_count": 94,
   "metadata": {},
   "outputs": [],
   "source": [
    "data[\"test_diff\"] = data.doc_id- data.invoice_id"
   ]
  },
  {
   "cell_type": "code",
   "execution_count": 95,
   "metadata": {},
   "outputs": [
    {
     "data": {
      "text/plain": [
       "0.000000e+00    45716\n",
       "7.488158e+09        1\n",
       "7.488158e+09        1\n",
       "7.488158e+09        1\n",
       "7.488158e+09        1\n",
       "Name: test_diff, dtype: int64"
      ]
     },
     "execution_count": 95,
     "metadata": {},
     "output_type": "execute_result"
    }
   ],
   "source": [
    "data[\"test_diff\"].value_counts()"
   ]
  },
  {
   "cell_type": "code",
   "execution_count": 96,
   "metadata": {},
   "outputs": [
    {
     "data": {
      "text/plain": [
       "(45720,)"
      ]
     },
     "execution_count": 96,
     "metadata": {},
     "output_type": "execute_result"
    }
   ],
   "source": [
    "data[\"doc_id\"].shape"
   ]
  },
  {
   "cell_type": "code",
   "execution_count": 97,
   "metadata": {},
   "outputs": [],
   "source": [
    "\n",
    "del data[\"doc_id\"]"
   ]
  },
  {
   "cell_type": "code",
   "execution_count": 98,
   "metadata": {},
   "outputs": [],
   "source": [
    "del data[\"invoice_id\"]"
   ]
  },
  {
   "cell_type": "markdown",
   "metadata": {},
   "source": [
    "# splitting"
   ]
  },
  {
   "cell_type": "code",
   "execution_count": 99,
   "metadata": {},
   "outputs": [],
   "source": [
    "data['posting_date'] = pd.to_datetime(data['posting_date'])"
   ]
  },
  {
   "cell_type": "code",
   "execution_count": 100,
   "metadata": {},
   "outputs": [],
   "source": [
    "data.sort_values(by='posting_date',inplace = True)"
   ]
  },
  {
   "cell_type": "code",
   "execution_count": 101,
   "metadata": {},
   "outputs": [],
   "source": [
    "df1 = data[data['isOpen'] == 0]"
   ]
  },
  {
   "cell_type": "code",
   "execution_count": 102,
   "metadata": {},
   "outputs": [
    {
     "data": {
      "text/plain": [
       "(36590, 14)"
      ]
     },
     "execution_count": 102,
     "metadata": {},
     "output_type": "execute_result"
    }
   ],
   "source": [
    "df1.shape"
   ]
  },
  {
   "cell_type": "code",
   "execution_count": 103,
   "metadata": {},
   "outputs": [],
   "source": [
    "df2 = data[data['isOpen'] == 1]"
   ]
  },
  {
   "cell_type": "code",
   "execution_count": 104,
   "metadata": {},
   "outputs": [
    {
     "data": {
      "text/plain": [
       "(9130, 14)"
      ]
     },
     "execution_count": 104,
     "metadata": {},
     "output_type": "execute_result"
    }
   ],
   "source": [
    "df2.shape"
   ]
  },
  {
   "cell_type": "code",
   "execution_count": 105,
   "metadata": {},
   "outputs": [],
   "source": [
    "#convert DATE coloumn to year month day."
   ]
  },
  {
   "cell_type": "code",
   "execution_count": 106,
   "metadata": {},
   "outputs": [
    {
     "name": "stderr",
     "output_type": "stream",
     "text": [
      "C:\\Users\\toshiba\\Anaconda3\\lib\\site-packages\\ipykernel_launcher.py:1: SettingWithCopyWarning: \n",
      "A value is trying to be set on a copy of a slice from a DataFrame.\n",
      "Try using .loc[row_indexer,col_indexer] = value instead\n",
      "\n",
      "See the caveats in the documentation: http://pandas.pydata.org/pandas-docs/stable/user_guide/indexing.html#returning-a-view-versus-a-copy\n",
      "  \"\"\"Entry point for launching an IPython kernel.\n",
      "C:\\Users\\toshiba\\Anaconda3\\lib\\site-packages\\ipykernel_launcher.py:2: SettingWithCopyWarning: \n",
      "A value is trying to be set on a copy of a slice from a DataFrame.\n",
      "Try using .loc[row_indexer,col_indexer] = value instead\n",
      "\n",
      "See the caveats in the documentation: http://pandas.pydata.org/pandas-docs/stable/user_guide/indexing.html#returning-a-view-versus-a-copy\n",
      "  \n",
      "C:\\Users\\toshiba\\Anaconda3\\lib\\site-packages\\ipykernel_launcher.py:3: SettingWithCopyWarning: \n",
      "A value is trying to be set on a copy of a slice from a DataFrame.\n",
      "Try using .loc[row_indexer,col_indexer] = value instead\n",
      "\n",
      "See the caveats in the documentation: http://pandas.pydata.org/pandas-docs/stable/user_guide/indexing.html#returning-a-view-versus-a-copy\n",
      "  This is separate from the ipykernel package so we can avoid doing imports until\n"
     ]
    }
   ],
   "source": [
    "df1['posting_date.day'] = df1['posting_date'].dt.day\n",
    "df1['posting_date.month'] = df1['posting_date'].dt.month\n",
    "df1['posting_date.year'] = df1['posting_date'].dt.year"
   ]
  },
  {
   "cell_type": "code",
   "execution_count": 107,
   "metadata": {},
   "outputs": [
    {
     "name": "stderr",
     "output_type": "stream",
     "text": [
      "C:\\Users\\toshiba\\Anaconda3\\lib\\site-packages\\ipykernel_launcher.py:1: SettingWithCopyWarning: \n",
      "A value is trying to be set on a copy of a slice from a DataFrame.\n",
      "Try using .loc[row_indexer,col_indexer] = value instead\n",
      "\n",
      "See the caveats in the documentation: http://pandas.pydata.org/pandas-docs/stable/user_guide/indexing.html#returning-a-view-versus-a-copy\n",
      "  \"\"\"Entry point for launching an IPython kernel.\n",
      "C:\\Users\\toshiba\\Anaconda3\\lib\\site-packages\\ipykernel_launcher.py:2: SettingWithCopyWarning: \n",
      "A value is trying to be set on a copy of a slice from a DataFrame.\n",
      "Try using .loc[row_indexer,col_indexer] = value instead\n",
      "\n",
      "See the caveats in the documentation: http://pandas.pydata.org/pandas-docs/stable/user_guide/indexing.html#returning-a-view-versus-a-copy\n",
      "  \n",
      "C:\\Users\\toshiba\\Anaconda3\\lib\\site-packages\\ipykernel_launcher.py:3: SettingWithCopyWarning: \n",
      "A value is trying to be set on a copy of a slice from a DataFrame.\n",
      "Try using .loc[row_indexer,col_indexer] = value instead\n",
      "\n",
      "See the caveats in the documentation: http://pandas.pydata.org/pandas-docs/stable/user_guide/indexing.html#returning-a-view-versus-a-copy\n",
      "  This is separate from the ipykernel package so we can avoid doing imports until\n"
     ]
    }
   ],
   "source": [
    "df1['baseline_create_date.day'] = df1['baseline_create_date'].dt.day\n",
    "df1['baseline_create_date.month'] = df1['baseline_create_date'].dt.month\n",
    "df1['baseline_create_date'] = df1['baseline_create_date'].dt.year"
   ]
  },
  {
   "cell_type": "code",
   "execution_count": 108,
   "metadata": {},
   "outputs": [
    {
     "name": "stderr",
     "output_type": "stream",
     "text": [
      "C:\\Users\\toshiba\\Anaconda3\\lib\\site-packages\\ipykernel_launcher.py:1: SettingWithCopyWarning: \n",
      "A value is trying to be set on a copy of a slice from a DataFrame.\n",
      "Try using .loc[row_indexer,col_indexer] = value instead\n",
      "\n",
      "See the caveats in the documentation: http://pandas.pydata.org/pandas-docs/stable/user_guide/indexing.html#returning-a-view-versus-a-copy\n",
      "  \"\"\"Entry point for launching an IPython kernel.\n",
      "C:\\Users\\toshiba\\Anaconda3\\lib\\site-packages\\ipykernel_launcher.py:2: SettingWithCopyWarning: \n",
      "A value is trying to be set on a copy of a slice from a DataFrame.\n",
      "Try using .loc[row_indexer,col_indexer] = value instead\n",
      "\n",
      "See the caveats in the documentation: http://pandas.pydata.org/pandas-docs/stable/user_guide/indexing.html#returning-a-view-versus-a-copy\n",
      "  \n",
      "C:\\Users\\toshiba\\Anaconda3\\lib\\site-packages\\ipykernel_launcher.py:3: SettingWithCopyWarning: \n",
      "A value is trying to be set on a copy of a slice from a DataFrame.\n",
      "Try using .loc[row_indexer,col_indexer] = value instead\n",
      "\n",
      "See the caveats in the documentation: http://pandas.pydata.org/pandas-docs/stable/user_guide/indexing.html#returning-a-view-versus-a-copy\n",
      "  This is separate from the ipykernel package so we can avoid doing imports until\n"
     ]
    }
   ],
   "source": [
    "df1['due_in_date.day'] = df1['due_in_date'].dt.day\n",
    "df1['due_in_date.month'] = df1['due_in_date'].dt.month\n",
    "df1['due_in_date.year'] = df1['due_in_date'].dt.year"
   ]
  },
  {
   "cell_type": "code",
   "execution_count": 109,
   "metadata": {},
   "outputs": [],
   "source": [
    "del df1[\"baseline_create_date\"]"
   ]
  },
  {
   "cell_type": "code",
   "execution_count": 110,
   "metadata": {},
   "outputs": [],
   "source": [
    "\n",
    "del df1[\"due_in_date\"]"
   ]
  },
  {
   "cell_type": "code",
   "execution_count": 111,
   "metadata": {},
   "outputs": [],
   "source": [
    "del df1[\"posting_date\"]"
   ]
  },
  {
   "cell_type": "markdown",
   "metadata": {},
   "source": [
    "# feature engineering"
   ]
  },
  {
   "cell_type": "code",
   "execution_count": 112,
   "metadata": {},
   "outputs": [],
   "source": [
    "import seaborn as sb\n",
    "import matplotlib.pyplot as mp"
   ]
  },
  {
   "cell_type": "code",
   "execution_count": 113,
   "metadata": {},
   "outputs": [
    {
     "data": {
      "image/png": "[encoded data removed]",
      "text/plain": [
       "<Figure size 432x288 with 2 Axes>"
      ]
     },
     "metadata": {},
     "output_type": "display_data"
    }
   ],
   "source": [
    "dataplot = sb.heatmap(df1.corr(), cmap=\"YlGnBu\", annot=True)"
   ]
  },
  {
   "cell_type": "code",
   "execution_count": 114,
   "metadata": {},
   "outputs": [],
   "source": [
    "\n",
    "#cust no , cust payment terms\n",
    "#buisness code , diff posting due\n",
    "# delay , buisness code \n",
    "# shows good relation ship"
   ]
  },
  {
   "cell_type": "code",
   "execution_count": 115,
   "metadata": {},
   "outputs": [
    {
     "data": {
      "text/plain": [
       "(36590, 19)"
      ]
     },
     "execution_count": 115,
     "metadata": {},
     "output_type": "execute_result"
    }
   ],
   "source": [
    "df1.shape"
   ]
  },
  {
   "cell_type": "code",
   "execution_count": 116,
   "metadata": {},
   "outputs": [
    {
     "data": {
      "text/html": [
       "<div>\n",
       "<style scoped>\n",
       "    .dataframe tbody tr th:only-of-type {\n",
       "        vertical-align: middle;\n",
       "    }\n",
       "\n",
       "    .dataframe tbody tr th {\n",
       "        vertical-align: top;\n",
       "    }\n",
       "\n",
       "    .dataframe thead th {\n",
       "        text-align: right;\n",
       "    }\n",
       "</style>\n",
       "<table border=\"1\" class=\"dataframe\">\n",
       "  <thead>\n",
       "    <tr style=\"text-align: right;\">\n",
       "      <th></th>\n",
       "      <th>business_code</th>\n",
       "      <th>cust_number</th>\n",
       "      <th>clear_date</th>\n",
       "      <th>buisness_year</th>\n",
       "      <th>total_open_amount</th>\n",
       "      <th>cust_payment_terms</th>\n",
       "      <th>isOpen</th>\n",
       "      <th>delay</th>\n",
       "      <th>amount_in_USD</th>\n",
       "      <th>diff_posting_due</th>\n",
       "      <th>test_diff</th>\n",
       "      <th>posting_date.day</th>\n",
       "      <th>posting_date.month</th>\n",
       "      <th>posting_date.year</th>\n",
       "      <th>baseline_create_date.day</th>\n",
       "      <th>baseline_create_date.month</th>\n",
       "      <th>due_in_date.day</th>\n",
       "      <th>due_in_date.month</th>\n",
       "      <th>due_in_date.year</th>\n",
       "    </tr>\n",
       "  </thead>\n",
       "  <tbody>\n",
       "    <tr>\n",
       "      <td>4647</td>\n",
       "      <td>1</td>\n",
       "      <td>200769623</td>\n",
       "      <td>2019-01-09</td>\n",
       "      <td>0</td>\n",
       "      <td>0.002048</td>\n",
       "      <td>38</td>\n",
       "      <td>0</td>\n",
       "      <td>-5</td>\n",
       "      <td>0.002048</td>\n",
       "      <td>15</td>\n",
       "      <td>0.0</td>\n",
       "      <td>30</td>\n",
       "      <td>12</td>\n",
       "      <td>2018</td>\n",
       "      <td>30</td>\n",
       "      <td>12</td>\n",
       "      <td>14</td>\n",
       "      <td>1</td>\n",
       "      <td>2019</td>\n",
       "    </tr>\n",
       "    <tr>\n",
       "      <td>38919</td>\n",
       "      <td>1</td>\n",
       "      <td>200771157</td>\n",
       "      <td>2019-01-15</td>\n",
       "      <td>0</td>\n",
       "      <td>0.069490</td>\n",
       "      <td>23</td>\n",
       "      <td>0</td>\n",
       "      <td>1</td>\n",
       "      <td>0.069490</td>\n",
       "      <td>15</td>\n",
       "      <td>0.0</td>\n",
       "      <td>30</td>\n",
       "      <td>12</td>\n",
       "      <td>2018</td>\n",
       "      <td>30</td>\n",
       "      <td>12</td>\n",
       "      <td>14</td>\n",
       "      <td>1</td>\n",
       "      <td>2019</td>\n",
       "    </tr>\n",
       "    <tr>\n",
       "      <td>24925</td>\n",
       "      <td>1</td>\n",
       "      <td>200769623</td>\n",
       "      <td>2019-01-09</td>\n",
       "      <td>0</td>\n",
       "      <td>0.029201</td>\n",
       "      <td>38</td>\n",
       "      <td>0</td>\n",
       "      <td>-5</td>\n",
       "      <td>0.029201</td>\n",
       "      <td>15</td>\n",
       "      <td>0.0</td>\n",
       "      <td>30</td>\n",
       "      <td>12</td>\n",
       "      <td>2018</td>\n",
       "      <td>30</td>\n",
       "      <td>12</td>\n",
       "      <td>14</td>\n",
       "      <td>1</td>\n",
       "      <td>2019</td>\n",
       "    </tr>\n",
       "    <tr>\n",
       "      <td>25006</td>\n",
       "      <td>1</td>\n",
       "      <td>200759878</td>\n",
       "      <td>2019-01-15</td>\n",
       "      <td>0</td>\n",
       "      <td>0.018308</td>\n",
       "      <td>38</td>\n",
       "      <td>0</td>\n",
       "      <td>1</td>\n",
       "      <td>0.018308</td>\n",
       "      <td>15</td>\n",
       "      <td>0.0</td>\n",
       "      <td>30</td>\n",
       "      <td>12</td>\n",
       "      <td>2018</td>\n",
       "      <td>30</td>\n",
       "      <td>12</td>\n",
       "      <td>14</td>\n",
       "      <td>1</td>\n",
       "      <td>2019</td>\n",
       "    </tr>\n",
       "    <tr>\n",
       "      <td>2914</td>\n",
       "      <td>1</td>\n",
       "      <td>200769623</td>\n",
       "      <td>2019-01-09</td>\n",
       "      <td>0</td>\n",
       "      <td>0.004396</td>\n",
       "      <td>38</td>\n",
       "      <td>0</td>\n",
       "      <td>-5</td>\n",
       "      <td>0.004396</td>\n",
       "      <td>15</td>\n",
       "      <td>0.0</td>\n",
       "      <td>30</td>\n",
       "      <td>12</td>\n",
       "      <td>2018</td>\n",
       "      <td>30</td>\n",
       "      <td>12</td>\n",
       "      <td>14</td>\n",
       "      <td>1</td>\n",
       "      <td>2019</td>\n",
       "    </tr>\n",
       "  </tbody>\n",
       "</table>\n",
       "</div>"
      ],
      "text/plain": [
       "       business_code  cust_number clear_date  buisness_year  \\\n",
       "4647               1    200769623 2019-01-09              0   \n",
       "38919              1    200771157 2019-01-15              0   \n",
       "24925              1    200769623 2019-01-09              0   \n",
       "25006              1    200759878 2019-01-15              0   \n",
       "2914               1    200769623 2019-01-09              0   \n",
       "\n",
       "       total_open_amount  cust_payment_terms  isOpen  delay  amount_in_USD  \\\n",
       "4647            0.002048                  38       0     -5       0.002048   \n",
       "38919           0.069490                  23       0      1       0.069490   \n",
       "24925           0.029201                  38       0     -5       0.029201   \n",
       "25006           0.018308                  38       0      1       0.018308   \n",
       "2914            0.004396                  38       0     -5       0.004396   \n",
       "\n",
       "       diff_posting_due  test_diff  posting_date.day  posting_date.month  \\\n",
       "4647                 15        0.0                30                  12   \n",
       "38919                15        0.0                30                  12   \n",
       "24925                15        0.0                30                  12   \n",
       "25006                15        0.0                30                  12   \n",
       "2914                 15        0.0                30                  12   \n",
       "\n",
       "       posting_date.year  baseline_create_date.day  \\\n",
       "4647                2018                        30   \n",
       "38919               2018                        30   \n",
       "24925               2018                        30   \n",
       "25006               2018                        30   \n",
       "2914                2018                        30   \n",
       "\n",
       "       baseline_create_date.month  due_in_date.day  due_in_date.month  \\\n",
       "4647                           12               14                  1   \n",
       "38919                          12               14                  1   \n",
       "24925                          12               14                  1   \n",
       "25006                          12               14                  1   \n",
       "2914                           12               14                  1   \n",
       "\n",
       "       due_in_date.year  \n",
       "4647               2019  \n",
       "38919              2019  \n",
       "24925              2019  \n",
       "25006              2019  \n",
       "2914               2019  "
      ]
     },
     "execution_count": 116,
     "metadata": {},
     "output_type": "execute_result"
    }
   ],
   "source": [
    "df1.head()"
   ]
  },
  {
   "cell_type": "code",
   "execution_count": 117,
   "metadata": {},
   "outputs": [
    {
     "data": {
      "text/plain": [
       "business_code                           int8\n",
       "cust_number                            int64\n",
       "clear_date                    datetime64[ns]\n",
       "buisness_year                           int8\n",
       "total_open_amount                    float64\n",
       "cust_payment_terms                      int8\n",
       "isOpen                                 int64\n",
       "delay                                  int64\n",
       "amount_in_USD                        float64\n",
       "diff_posting_due                       int64\n",
       "test_diff                            float64\n",
       "posting_date.day                       int64\n",
       "posting_date.month                     int64\n",
       "posting_date.year                      int64\n",
       "baseline_create_date.day               int64\n",
       "baseline_create_date.month             int64\n",
       "due_in_date.day                        int64\n",
       "due_in_date.month                      int64\n",
       "due_in_date.year                       int64\n",
       "dtype: object"
      ]
     },
     "execution_count": 117,
     "metadata": {},
     "output_type": "execute_result"
    }
   ],
   "source": [
    "df1.dtypes"
   ]
  },
  {
   "cell_type": "code",
   "execution_count": 118,
   "metadata": {},
   "outputs": [],
   "source": [
    "del df1[\"clear_date\"]"
   ]
  },
  {
   "cell_type": "code",
   "execution_count": 119,
   "metadata": {},
   "outputs": [],
   "source": [
    "del df1[\"diff_posting_due\"]"
   ]
  },
  {
   "cell_type": "code",
   "execution_count": 120,
   "metadata": {},
   "outputs": [],
   "source": [
    "del df1[\"test_diff\"]"
   ]
  },
  {
   "cell_type": "code",
   "execution_count": null,
   "metadata": {},
   "outputs": [],
   "source": []
  },
  {
   "cell_type": "raw",
   "metadata": {},
   "source": [
    "# training model"
   ]
  },
  {
   "cell_type": "code",
   "execution_count": 121,
   "metadata": {},
   "outputs": [],
   "source": [
    "#lets split data into train and test set"
   ]
  },
  {
   "cell_type": "code",
   "execution_count": 122,
   "metadata": {},
   "outputs": [],
   "source": [
    "x=df1.drop('delay',axis=1)"
   ]
  },
  {
   "cell_type": "code",
   "execution_count": 123,
   "metadata": {},
   "outputs": [],
   "source": [
    "y = df1[\"delay\"]"
   ]
  },
  {
   "cell_type": "code",
   "execution_count": 124,
   "metadata": {},
   "outputs": [],
   "source": [
    "from sklearn.model_selection import train_test_split"
   ]
  },
  {
   "cell_type": "code",
   "execution_count": 125,
   "metadata": {},
   "outputs": [],
   "source": [
    "X_train, X_test, y_train, y_test = train_test_split(x, y, test_size=0.2, random_state = 1,shuffle = False)\n",
    "\n",
    "X_train, X_val, y_train, y_val = train_test_split(X_train, y_train, test_size=0.25, random_state=1,shuffle = False)"
   ]
  },
  {
   "cell_type": "code",
   "execution_count": 126,
   "metadata": {},
   "outputs": [
    {
     "data": {
      "text/html": [
       "<div>\n",
       "<style scoped>\n",
       "    .dataframe tbody tr th:only-of-type {\n",
       "        vertical-align: middle;\n",
       "    }\n",
       "\n",
       "    .dataframe tbody tr th {\n",
       "        vertical-align: top;\n",
       "    }\n",
       "\n",
       "    .dataframe thead th {\n",
       "        text-align: right;\n",
       "    }\n",
       "</style>\n",
       "<table border=\"1\" class=\"dataframe\">\n",
       "  <thead>\n",
       "    <tr style=\"text-align: right;\">\n",
       "      <th></th>\n",
       "      <th>business_code</th>\n",
       "      <th>cust_number</th>\n",
       "      <th>buisness_year</th>\n",
       "      <th>total_open_amount</th>\n",
       "      <th>cust_payment_terms</th>\n",
       "      <th>isOpen</th>\n",
       "      <th>amount_in_USD</th>\n",
       "      <th>posting_date.day</th>\n",
       "      <th>posting_date.month</th>\n",
       "      <th>posting_date.year</th>\n",
       "      <th>baseline_create_date.day</th>\n",
       "      <th>baseline_create_date.month</th>\n",
       "      <th>due_in_date.day</th>\n",
       "      <th>due_in_date.month</th>\n",
       "      <th>due_in_date.year</th>\n",
       "    </tr>\n",
       "  </thead>\n",
       "  <tbody>\n",
       "    <tr>\n",
       "      <td>4647</td>\n",
       "      <td>1</td>\n",
       "      <td>200769623</td>\n",
       "      <td>0</td>\n",
       "      <td>0.002048</td>\n",
       "      <td>38</td>\n",
       "      <td>0</td>\n",
       "      <td>0.002048</td>\n",
       "      <td>30</td>\n",
       "      <td>12</td>\n",
       "      <td>2018</td>\n",
       "      <td>30</td>\n",
       "      <td>12</td>\n",
       "      <td>14</td>\n",
       "      <td>1</td>\n",
       "      <td>2019</td>\n",
       "    </tr>\n",
       "    <tr>\n",
       "      <td>38919</td>\n",
       "      <td>1</td>\n",
       "      <td>200771157</td>\n",
       "      <td>0</td>\n",
       "      <td>0.069490</td>\n",
       "      <td>23</td>\n",
       "      <td>0</td>\n",
       "      <td>0.069490</td>\n",
       "      <td>30</td>\n",
       "      <td>12</td>\n",
       "      <td>2018</td>\n",
       "      <td>30</td>\n",
       "      <td>12</td>\n",
       "      <td>14</td>\n",
       "      <td>1</td>\n",
       "      <td>2019</td>\n",
       "    </tr>\n",
       "    <tr>\n",
       "      <td>24925</td>\n",
       "      <td>1</td>\n",
       "      <td>200769623</td>\n",
       "      <td>0</td>\n",
       "      <td>0.029201</td>\n",
       "      <td>38</td>\n",
       "      <td>0</td>\n",
       "      <td>0.029201</td>\n",
       "      <td>30</td>\n",
       "      <td>12</td>\n",
       "      <td>2018</td>\n",
       "      <td>30</td>\n",
       "      <td>12</td>\n",
       "      <td>14</td>\n",
       "      <td>1</td>\n",
       "      <td>2019</td>\n",
       "    </tr>\n",
       "    <tr>\n",
       "      <td>25006</td>\n",
       "      <td>1</td>\n",
       "      <td>200759878</td>\n",
       "      <td>0</td>\n",
       "      <td>0.018308</td>\n",
       "      <td>38</td>\n",
       "      <td>0</td>\n",
       "      <td>0.018308</td>\n",
       "      <td>30</td>\n",
       "      <td>12</td>\n",
       "      <td>2018</td>\n",
       "      <td>30</td>\n",
       "      <td>12</td>\n",
       "      <td>14</td>\n",
       "      <td>1</td>\n",
       "      <td>2019</td>\n",
       "    </tr>\n",
       "    <tr>\n",
       "      <td>2914</td>\n",
       "      <td>1</td>\n",
       "      <td>200769623</td>\n",
       "      <td>0</td>\n",
       "      <td>0.004396</td>\n",
       "      <td>38</td>\n",
       "      <td>0</td>\n",
       "      <td>0.004396</td>\n",
       "      <td>30</td>\n",
       "      <td>12</td>\n",
       "      <td>2018</td>\n",
       "      <td>30</td>\n",
       "      <td>12</td>\n",
       "      <td>14</td>\n",
       "      <td>1</td>\n",
       "      <td>2019</td>\n",
       "    </tr>\n",
       "  </tbody>\n",
       "</table>\n",
       "</div>"
      ],
      "text/plain": [
       "       business_code  cust_number  buisness_year  total_open_amount  \\\n",
       "4647               1    200769623              0           0.002048   \n",
       "38919              1    200771157              0           0.069490   \n",
       "24925              1    200769623              0           0.029201   \n",
       "25006              1    200759878              0           0.018308   \n",
       "2914               1    200769623              0           0.004396   \n",
       "\n",
       "       cust_payment_terms  isOpen  amount_in_USD  posting_date.day  \\\n",
       "4647                   38       0       0.002048                30   \n",
       "38919                  23       0       0.069490                30   \n",
       "24925                  38       0       0.029201                30   \n",
       "25006                  38       0       0.018308                30   \n",
       "2914                   38       0       0.004396                30   \n",
       "\n",
       "       posting_date.month  posting_date.year  baseline_create_date.day  \\\n",
       "4647                   12               2018                        30   \n",
       "38919                  12               2018                        30   \n",
       "24925                  12               2018                        30   \n",
       "25006                  12               2018                        30   \n",
       "2914                   12               2018                        30   \n",
       "\n",
       "       baseline_create_date.month  due_in_date.day  due_in_date.month  \\\n",
       "4647                           12               14                  1   \n",
       "38919                          12               14                  1   \n",
       "24925                          12               14                  1   \n",
       "25006                          12               14                  1   \n",
       "2914                           12               14                  1   \n",
       "\n",
       "       due_in_date.year  \n",
       "4647               2019  \n",
       "38919              2019  \n",
       "24925              2019  \n",
       "25006              2019  \n",
       "2914               2019  "
      ]
     },
     "execution_count": 126,
     "metadata": {},
     "output_type": "execute_result"
    }
   ],
   "source": [
    "X_train.head()"
   ]
  },
  {
   "cell_type": "markdown",
   "metadata": {},
   "source": [
    "# base model"
   ]
  },
  {
   "cell_type": "code",
   "execution_count": 127,
   "metadata": {},
   "outputs": [
    {
     "data": {
      "text/plain": [
       "LinearRegression(copy_X=True, fit_intercept=True, n_jobs=None, normalize=False)"
      ]
     },
     "execution_count": 127,
     "metadata": {},
     "output_type": "execute_result"
    }
   ],
   "source": [
    "from sklearn.linear_model import LinearRegression\n",
    "base_model = LinearRegression()\n",
    "base_model.fit(X_train, y_train)"
   ]
  },
  {
   "cell_type": "code",
   "execution_count": 128,
   "metadata": {},
   "outputs": [],
   "source": [
    "y_predict = base_model.predict(X_val)"
   ]
  },
  {
   "cell_type": "code",
   "execution_count": 129,
   "metadata": {},
   "outputs": [
    {
     "data": {
      "text/plain": [
       "52.02990290650266"
      ]
     },
     "execution_count": 129,
     "metadata": {},
     "output_type": "execute_result"
    }
   ],
   "source": [
    "from sklearn.metrics import mean_squared_error\n",
    "\n",
    "mean_squared_error(y_val, y_predict)"
   ]
  },
  {
   "cell_type": "markdown",
   "metadata": {},
   "source": [
    "# checking for over fitting or under fitting"
   ]
  },
  {
   "cell_type": "code",
   "execution_count": 132,
   "metadata": {},
   "outputs": [
    {
     "data": {
      "text/plain": [
       "3592.2914132993783"
      ]
     },
     "execution_count": 132,
     "metadata": {},
     "output_type": "execute_result"
    }
   ],
   "source": [
    "y_predict_test = base_model.predict(X_test)\n",
    "mean_squared_error(y_test, y_predict_test)"
   ]
  },
  {
   "cell_type": "markdown",
   "metadata": {},
   "source": [
    "# The model is overfitting in validation set and 3592 on test set again loop and feature engineering"
   ]
  },
  {
   "cell_type": "code",
   "execution_count": null,
   "metadata": {},
   "outputs": [],
   "source": []
  }
 ],
 "metadata": {
  "kernelspec": {
   "display_name": "Python 3",
   "language": "python",
   "name": "python3"
  },
  "language_info": {
   "codemirror_mode": {
    "name": "ipython",
    "version": 3
   },
   "file_extension": ".py",
   "mimetype": "text/x-python",
   "name": "python",
   "nbconvert_exporter": "python",
   "pygments_lexer": "ipython3",
   "version": "3.7.4"
  }
 },
 "nbformat": 4,
 "nbformat_minor": 2
}
